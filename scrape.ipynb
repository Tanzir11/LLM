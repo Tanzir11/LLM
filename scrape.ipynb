{
 "cells": [
  {
   "cell_type": "code",
   "execution_count": 177,
   "metadata": {},
   "outputs": [
    {
     "name": "stderr",
     "output_type": "stream",
     "text": [
      "\n",
      "[notice] A new release of pip available: 22.3.1 -> 23.2.1\n",
      "[notice] To update, run: python.exe -m pip install --upgrade pip\n"
     ]
    }
   ],
   "source": [
    "!pip install requests --quiet"
   ]
  },
  {
   "cell_type": "code",
   "execution_count": 178,
   "metadata": {},
   "outputs": [],
   "source": [
    "import requests"
   ]
  },
  {
   "cell_type": "code",
   "execution_count": 179,
   "metadata": {},
   "outputs": [],
   "source": [
    "url = 'https://brainlox.com/courses/category/technical'"
   ]
  },
  {
   "cell_type": "code",
   "execution_count": 180,
   "metadata": {},
   "outputs": [],
   "source": [
    "resp = requests.get(url)"
   ]
  },
  {
   "cell_type": "code",
   "execution_count": 181,
   "metadata": {},
   "outputs": [
    {
     "data": {
      "text/plain": [
       "200"
      ]
     },
     "execution_count": 181,
     "metadata": {},
     "output_type": "execute_result"
    }
   ],
   "source": [
    "resp.status_code"
   ]
  },
  {
   "cell_type": "code",
   "execution_count": 182,
   "metadata": {},
   "outputs": [
    {
     "data": {
      "text/plain": [
       "349016"
      ]
     },
     "execution_count": 182,
     "metadata": {},
     "output_type": "execute_result"
    }
   ],
   "source": [
    "len(resp.text)"
   ]
  },
  {
   "cell_type": "code",
   "execution_count": 183,
   "metadata": {},
   "outputs": [],
   "source": [
    "page_cont = resp.text"
   ]
  },
  {
   "cell_type": "code",
   "execution_count": 184,
   "metadata": {},
   "outputs": [
    {
     "data": {
      "text/plain": [
       "'<!DOCTYPE html><html lang=\"zxx\"><head><link rel=\"shortcut icon\" type=\"image\" href=\"/images/brainLox_logo.jpeg\"/><meta name=\"application-name\" content=\"Brainlox\"/><meta name=\"apple-mobile-web-app-capable\" content=\"yes\"/><meta name=\"apple-mobile-web-app-status-bar-style\" content=\"default\"/><meta name=\"apple-mobile-web-app-title\" content=\"Brainlox\"/><meta name=\"theme-color\" content=\"#FFFFFF\"/><link rel=\"brainLox_logo\" sizes=\"180x180\" href=\"/images/brainLox_logo.jpeg\"/><link rel=\"manifest\" href=\"/manifest.json\"/><link rel=\"shortcut icon\" href=\"/images/brainLox_logo.jpeg\"/><meta charSet=\"utf-8\"/><meta name=\"viewport\" content=\"initial-scale=1.0, width=device-width\"/><meta name=\"author\" content=\"brainlox dev team\"/><title>Brainlox: Learn technical courses.</title><meta name=\"description\" content=\"Your one stop education destination!\"/><meta name=\"og:title\" property=\"og:title\" content=\"Brainlox: Learn technical courses.\"/><meta property=\"og:type\" content=\"article\"/><meta property=\"og:url\" cont'"
      ]
     },
     "execution_count": 184,
     "metadata": {},
     "output_type": "execute_result"
    }
   ],
   "source": [
    "page_cont[:1000]"
   ]
  },
  {
   "cell_type": "code",
   "execution_count": 185,
   "metadata": {},
   "outputs": [],
   "source": [
    "with open('webpage.html', 'w', encoding='utf-8') as f:\n",
    "    f.write(page_cont)"
   ]
  },
  {
   "cell_type": "code",
   "execution_count": 186,
   "metadata": {},
   "outputs": [
    {
     "name": "stderr",
     "output_type": "stream",
     "text": [
      "\n",
      "[notice] A new release of pip available: 22.3.1 -> 23.2.1\n",
      "[notice] To update, run: python.exe -m pip install --upgrade pip\n"
     ]
    }
   ],
   "source": [
    "!pip install beautifulsoup4 --quiet"
   ]
  },
  {
   "cell_type": "code",
   "execution_count": 187,
   "metadata": {},
   "outputs": [],
   "source": [
    "from bs4 import BeautifulSoup"
   ]
  },
  {
   "cell_type": "code",
   "execution_count": 188,
   "metadata": {},
   "outputs": [],
   "source": [
    "doc = BeautifulSoup(page_cont, 'html.parser')"
   ]
  },
  {
   "cell_type": "markdown",
   "metadata": {},
   "source": [
    "### Course Content"
   ]
  },
  {
   "cell_type": "code",
   "execution_count": 211,
   "metadata": {},
   "outputs": [],
   "source": [
    "cc = doc.find_all('div', {'class' : 'courses-content'})"
   ]
  },
  {
   "cell_type": "code",
   "execution_count": 213,
   "metadata": {},
   "outputs": [
    {
     "data": {
      "text/plain": [
       "67"
      ]
     },
     "execution_count": 213,
     "metadata": {},
     "output_type": "execute_result"
    }
   ],
   "source": [
    "len(cc)"
   ]
  },
  {
   "cell_type": "code",
   "execution_count": 214,
   "metadata": {},
   "outputs": [
    {
     "data": {
      "text/plain": [
       "[<div class=\"courses-content\"><h3><a href=\"/courses/4f629d96-5ed9-4302-ae0e-3479c543a49e\">LEARN SCRATCH PROGRAMING</a></h3><p>\n",
       " Scratch Course is the foundation of coding and is a building block of a coding journey. If you want</p><ul class=\"courses-box-footer d-flex justify-content-between align-items-center\"><li><i class=\"flaticon-agenda\"></i> <!-- -->16<!-- --> Lessons</li><li><div class=\"others-option d-flex align-items-center\"><a class=\"BookDemo-btn px-2\" href=\"/courses/4f629d96-5ed9-4302-ae0e-3479c543a49e\" id=\"BookDemo-btn\">View Details<span></span></a></div></li></ul></div>,\n",
       " <div class=\"courses-content\"><h3><a href=\"/courses/872d1cb6-8469-4797-b267-8c41837b10e2\">LEARN CLOUD COMPUTING BASICS-AWS</a></h3><p>\n",
       " In this course we are going to cover the basics and the most important services on AWS,\n",
       " At the end </p><ul class=\"courses-box-footer d-flex justify-content-between align-items-center\"><li><i class=\"flaticon-agenda\"></i> <!-- -->20<!-- --> Lessons</li><li><div class=\"others-option d-flex align-items-center\"><a class=\"BookDemo-btn px-2\" href=\"/courses/872d1cb6-8469-4797-b267-8c41837b10e2\" id=\"BookDemo-btn\">View Details<span></span></a></div></li></ul></div>,\n",
       " <div class=\"courses-content\"><h3><a href=\"/courses/2cf11f62-6452-41f1-9b42-303fb371b873\">LEARN MOBILE DEVELOPMENT</a></h3><p>\n",
       " Mobile application development is the process of creating software applications that run on a mobil</p><ul class=\"courses-box-footer d-flex justify-content-between align-items-center\"><li><i class=\"flaticon-agenda\"></i> <!-- -->24<!-- --> Lessons</li><li><div class=\"others-option d-flex align-items-center\"><a class=\"BookDemo-btn px-2\" href=\"/courses/2cf11f62-6452-41f1-9b42-303fb371b873\" id=\"BookDemo-btn\">View Details<span></span></a></div></li></ul></div>,\n",
       " <div class=\"courses-content\"><h3><a href=\"/courses/be32e068-edca-4b41-96ee-4839de6aaebb\">LEARN CORE JAVA PROGRAMMING ONLINE</a></h3><p>\n",
       " Java is a very popular high-level, class-based, object-oriented programming language that is design</p><ul class=\"courses-box-footer d-flex justify-content-between align-items-center\"><li><i class=\"flaticon-agenda\"></i> <!-- -->41<!-- --> Lessons</li><li><div class=\"others-option d-flex align-items-center\"><a class=\"BookDemo-btn px-2\" href=\"/courses/be32e068-edca-4b41-96ee-4839de6aaebb\" id=\"BookDemo-btn\">View Details<span></span></a></div></li></ul></div>,\n",
       " <div class=\"courses-content\"><h3><a href=\"/courses/0deafb39-3208-42db-93e3-bd69f8562f82\">LEARN ROBOTICS</a></h3><p>\n",
       " You can open all kinds of doors for advancement in so many careers with a basic understanding of el</p><ul class=\"courses-box-footer d-flex justify-content-between align-items-center\"><li><i class=\"flaticon-agenda\"></i> <!-- -->25<!-- --> Lessons</li><li><div class=\"others-option d-flex align-items-center\"><a class=\"BookDemo-btn px-2\" href=\"/courses/0deafb39-3208-42db-93e3-bd69f8562f82\" id=\"BookDemo-btn\">View Details<span></span></a></div></li></ul></div>,\n",
       " <div class=\"courses-content\"><h3><a href=\"/courses/fc9e2faf-dbe1-47bf-994c-f566a9ad3b42\">LEARN JAVASCRIPT</a></h3><p>\n",
       " JavaScript is the most popular programming language in the world. It powers the entire modern web. </p><ul class=\"courses-box-footer d-flex justify-content-between align-items-center\"><li><i class=\"flaticon-agenda\"></i> <!-- -->18<!-- --> Lessons</li><li><div class=\"others-option d-flex align-items-center\"><a class=\"BookDemo-btn px-2\" href=\"/courses/fc9e2faf-dbe1-47bf-994c-f566a9ad3b42\" id=\"BookDemo-btn\">View Details<span></span></a></div></li></ul></div>,\n",
       " <div class=\"courses-content\"><h3><a href=\"/courses/b0f2428a-c1c0-4def-8ac2-692a2d51a5b4\">LEARN NODE JS</a></h3><p>\n",
       " Node.js developers are in high demand and the language is used for everything from traditional web </p><ul class=\"courses-box-footer d-flex justify-content-between align-items-center\"><li><i class=\"flaticon-agenda\"></i> <!-- -->18<!-- --> Lessons</li><li><div class=\"others-option d-flex align-items-center\"><a class=\"BookDemo-btn px-2\" href=\"/courses/b0f2428a-c1c0-4def-8ac2-692a2d51a5b4\" id=\"BookDemo-btn\">View Details<span></span></a></div></li></ul></div>,\n",
       " <div class=\"courses-content\"><h3><a href=\"/courses/e0edfcf8-9e0f-4c7a-bc90-3000822924e2\">LEARN CLOUD COMPUTING ADVANCE-AWS</a></h3><p>DESCRIPTION<br/>\n",
       " This introduction to cloud computing on Amazon AWS course takes you from the AWS Ad</p><ul class=\"courses-box-footer d-flex justify-content-between align-items-center\"><li><i class=\"flaticon-agenda\"></i> <!-- -->18<!-- --> Lessons</li><li><div class=\"others-option d-flex align-items-center\"><a class=\"BookDemo-btn px-2\" href=\"/courses/e0edfcf8-9e0f-4c7a-bc90-3000822924e2\" id=\"BookDemo-btn\">View Details<span></span></a></div></li></ul></div>,\n",
       " <div class=\"courses-content\"><h3><a href=\"/courses/fc29b015-962f-41fc-bc93-181d3ed87842\">PYTHON PROGRAMMING-BEGINNER</a></h3><p>\n",
       " Python is a language with simple syntax, and a powerful set of libraries. It has a rich programming</p><ul class=\"courses-box-footer d-flex justify-content-between align-items-center\"><li><i class=\"flaticon-agenda\"></i> <!-- -->16<!-- --> Lessons</li><li><div class=\"others-option d-flex align-items-center\"><a class=\"BookDemo-btn px-2\" href=\"/courses/fc29b015-962f-41fc-bc93-181d3ed87842\" id=\"BookDemo-btn\">View Details<span></span></a></div></li></ul></div>,\n",
       " <div class=\"courses-content\"><h3><a href=\"/courses/fe8f5696-eb0e-48a0-a505-147e9c502b65\">Roblox Programming For Beginners</a></h3><p>Explore the dynamic universe of game development with our \"Roblox Game Development Fundamentals\" cou</p><ul class=\"courses-box-footer d-flex justify-content-between align-items-center\"><li><i class=\"flaticon-agenda\"></i> <!-- -->15<!-- --> Lessons</li><li><div class=\"others-option d-flex align-items-center\"><a class=\"BookDemo-btn px-2\" href=\"/courses/fe8f5696-eb0e-48a0-a505-147e9c502b65\" id=\"BookDemo-btn\">View Details<span></span></a></div></li></ul></div>,\n",
       " <div class=\"courses-content\"><h3><a href=\"/courses/9101883f-00af-48f7-949a-36cfc60ecfcf\">PYTHON PROGRAMMING-INTERMEDIATE</a></h3><p>\n",
       " Take your python skills to the next level and start building real applications.<br/>\n",
       " Python is a pro</p><ul class=\"courses-box-footer d-flex justify-content-between align-items-center\"><li><i class=\"flaticon-agenda\"></i> <!-- -->16<!-- --> Lessons</li><li><div class=\"others-option d-flex align-items-center\"><a class=\"BookDemo-btn px-2\" href=\"/courses/9101883f-00af-48f7-949a-36cfc60ecfcf\" id=\"BookDemo-btn\">View Details<span></span></a></div></li></ul></div>,\n",
       " <div class=\"courses-content\"><h3><a href=\"/courses/f9f7b907-5f4f-472d-a7e1-d44d38255a42\">PYTHON PROGRAMMING-ADVANCE</a></h3><p>If you already know Python basics, then this training is the next step in your Python learning path </p><ul class=\"courses-box-footer d-flex justify-content-between align-items-center\"><li><i class=\"flaticon-agenda\"></i> <!-- -->30<!-- --> Lessons</li><li><div class=\"others-option d-flex align-items-center\"><a class=\"BookDemo-btn px-2\" href=\"/courses/f9f7b907-5f4f-472d-a7e1-d44d38255a42\" id=\"BookDemo-btn\">View Details<span></span></a></div></li></ul></div>,\n",
       " <div class=\"courses-content\"><h3><a href=\"/courses/cfcf2aa4-e220-4ce7-844e-563ebfaa98bd\">PYTHON PROGRAMMING GROUP CLASSES - BEGINNER</a></h3><p>\n",
       " Python is a language with simple syntax, and a powerful set of libraries. It has a rich programming</p><ul class=\"courses-box-footer d-flex justify-content-between align-items-center\"><li><i class=\"flaticon-agenda\"></i> <!-- -->16<!-- --> Lessons</li><li><div class=\"others-option d-flex align-items-center\"><a class=\"BookDemo-btn px-2\" href=\"/courses/cfcf2aa4-e220-4ce7-844e-563ebfaa98bd\" id=\"BookDemo-btn\">View Details<span></span></a></div></li></ul></div>,\n",
       " <div class=\"courses-content\"><h3><a href=\"/courses/c5e8d5e8-58cb-4836-94e4-51314ffba4f3\">Advanced Roblox Scripting Workshop</a></h3><p>\"Are you ready to unlock the full potential of your Roblox game development skills? Join our Interme</p><ul class=\"courses-box-footer d-flex justify-content-between align-items-center\"><li><i class=\"flaticon-agenda\"></i> <!-- -->14<!-- --> Lessons</li><li><div class=\"others-option d-flex align-items-center\"><a class=\"BookDemo-btn px-2\" href=\"/courses/c5e8d5e8-58cb-4836-94e4-51314ffba4f3\" id=\"BookDemo-btn\">View Details<span></span></a></div></li></ul></div>,\n",
       " <div class=\"courses-content\"><h3><a href=\"/courses/cd8e693c-c6a7-4dca-aeb1-4b7cf1dde495\">Robotics Adventure Awaits:Join Our Summer Camp for Young Tech Wizards!</a></h3><p>This course is designed to introduce beginners to the world of robotics. Learners will be taught the</p><ul class=\"courses-box-footer d-flex justify-content-between align-items-center\"><li><i class=\"flaticon-agenda\"></i> <!-- -->16<!-- --> Lessons</li><li><div class=\"others-option d-flex align-items-center\"><a class=\"BookDemo-btn px-2\" href=\"/courses/cd8e693c-c6a7-4dca-aeb1-4b7cf1dde495\" id=\"BookDemo-btn\">View Details<span></span></a></div></li></ul></div>,\n",
       " <div class=\"courses-content\"><h3><a href=\"/courses/6a0fc4c9-2074-4854-ac31-c7dfad9ed932\">Java Project-Based Course</a></h3><p>Java Project-Based Course for Intermediate Level Students ;Overview: This course is designed for int</p><ul class=\"courses-box-footer d-flex justify-content-between align-items-center\"><li><i class=\"flaticon-agenda\"></i> <!-- -->7<!-- --> Lessons</li><li><div class=\"others-option d-flex align-items-center\"><a class=\"BookDemo-btn px-2\" href=\"/courses/6a0fc4c9-2074-4854-ac31-c7dfad9ed932\" id=\"BookDemo-btn\">View Details<span></span></a></div></li></ul></div>,\n",
       " <div class=\"courses-content\"><h3><a href=\"/courses/51890aee-163e-4ef7-86ff-fe0d6acba7e1\">Artificial Intelligence Adventures: Building AI Chatbot Like Chatgpt (For Kids)</a></h3><p>Unlock the power of AI chatbots in our 10-day course! Gain comprehensive knowledge of chatbot develo</p><ul class=\"courses-box-footer d-flex justify-content-between align-items-center\"><li><i class=\"flaticon-agenda\"></i> <!-- -->10<!-- --> Lessons</li><li><div class=\"others-option d-flex align-items-center\"><a class=\"BookDemo-btn px-2\" href=\"/courses/51890aee-163e-4ef7-86ff-fe0d6acba7e1\" id=\"BookDemo-btn\">View Details<span></span></a></div></li></ul></div>,\n",
       " <div class=\"courses-content\"><h3><a href=\"/courses/c4bdeda0-9565-4073-9eeb-67f4a79e9ec7\">Python Playground: Create a Hangman Game</a></h3><p>Python Playground : Create a Hangman Game is an exciting and engaging course designed specifically f</p><ul class=\"courses-box-footer d-flex justify-content-between align-items-center\"><li><i class=\"flaticon-agenda\"></i> <!-- -->8<!-- --> Lessons</li><li><div class=\"others-option d-flex align-items-center\"><a class=\"BookDemo-btn px-2\" href=\"/courses/c4bdeda0-9565-4073-9eeb-67f4a79e9ec7\" id=\"BookDemo-btn\">View Details<span></span></a></div></li></ul></div>,\n",
       " <div class=\"courses-content\"><h3><a href=\"/courses/cc34d7ec-62ae-4018-b75e-207df98a4300\">Scratch Playground: Create a Maze Game!</a></h3><p>Scratch Playground : Create a Maze Game! is a beginner-level course designed to introduce kids to th</p><ul class=\"courses-box-footer d-flex justify-content-between align-items-center\"><li><i class=\"flaticon-agenda\"></i> <!-- -->8<!-- --> Lessons</li><li><div class=\"others-option d-flex align-items-center\"><a class=\"BookDemo-btn px-2\" href=\"/courses/cc34d7ec-62ae-4018-b75e-207df98a4300\" id=\"BookDemo-btn\">View Details<span></span></a></div></li></ul></div>,\n",
       " <div class=\"courses-content\"><h3><a href=\"/courses/0544dc35-181e-4e75-b26d-69393de68022\">Artificial Intelligence Essentials: Summer Bootcamp</a></h3><p>Join us for this engaging 5-day summer bootcamp where we will explore the fascinating world of Artif</p><ul class=\"courses-box-footer d-flex justify-content-between align-items-center\"><li><i class=\"flaticon-agenda\"></i> <!-- -->5<!-- --> Lessons</li><li><div class=\"others-option d-flex align-items-center\"><a class=\"BookDemo-btn px-2\" href=\"/courses/0544dc35-181e-4e75-b26d-69393de68022\" id=\"BookDemo-btn\">View Details<span></span></a></div></li></ul></div>,\n",
       " <div class=\"courses-content\"><h3><a href=\"/courses/8ca45c22-2dae-4c21-840c-8c9a177d09b3\">Time Mastery Camp: AI for Jobs, Business, Careers</a></h3><p>The \"AI for Productivity and Time Management\" course: 🚀💡\n",
       " Day 1: Introduction to AI and its Applica</p><ul class=\"courses-box-footer d-flex justify-content-between align-items-center\"><li><i class=\"flaticon-agenda\"></i> <!-- -->11<!-- --> Lessons</li><li><div class=\"others-option d-flex align-items-center\"><a class=\"BookDemo-btn px-2\" href=\"/courses/8ca45c22-2dae-4c21-840c-8c9a177d09b3\" id=\"BookDemo-btn\">View Details<span></span></a></div></li></ul></div>,\n",
       " <div class=\"courses-content\"><h3><a href=\"/courses/5d6b48ea-641e-4707-b7cf-c4f270789c9e\">Build Your Own Theme Park in Roblox</a></h3><p>Roblox Studio fundamentals are taught through fun and interactive projects. Lectures, projects, hand</p><ul class=\"courses-box-footer d-flex justify-content-between align-items-center\"><li><i class=\"flaticon-agenda\"></i> <!-- -->8<!-- --> Lessons</li><li><div class=\"others-option d-flex align-items-center\"><a class=\"BookDemo-btn px-2\" href=\"/courses/5d6b48ea-641e-4707-b7cf-c4f270789c9e\" id=\"BookDemo-btn\">View Details<span></span></a></div></li></ul></div>,\n",
       " <div class=\"courses-content\"><h3><a href=\"/courses/7ef0ff36-cf58-4ce7-a010-b6bc7350d78a\">Java Coding Summer Camp for Young Minds</a></h3><p>Java Journey: Coding Camp for Curious Minds\" is a fun-filled, 5-day adventure into the world of prog</p><ul class=\"courses-box-footer d-flex justify-content-between align-items-center\"><li><i class=\"flaticon-agenda\"></i> <!-- -->5<!-- --> Lessons</li><li><div class=\"others-option d-flex align-items-center\"><a class=\"BookDemo-btn px-2\" href=\"/courses/7ef0ff36-cf58-4ce7-a010-b6bc7350d78a\" id=\"BookDemo-btn\">View Details<span></span></a></div></li></ul></div>,\n",
       " <div class=\"courses-content\"><h3><a href=\"/courses/72423503-2e09-4404-92f5-48292dda42e3\">AI Camp for Entrepreneurs: Build Business Success</a></h3><p>Welcome to the world of AI in entrepreneurship!  In this course, we will embark on a thrilling journ</p><ul class=\"courses-box-footer d-flex justify-content-between align-items-center\"><li><i class=\"flaticon-agenda\"></i> <!-- -->7<!-- --> Lessons</li><li><div class=\"others-option d-flex align-items-center\"><a class=\"BookDemo-btn px-2\" href=\"/courses/72423503-2e09-4404-92f5-48292dda42e3\" id=\"BookDemo-btn\">View Details<span></span></a></div></li></ul></div>,\n",
       " <div class=\"courses-content\"><h3><a href=\"/courses/24e3bb16-bc23-4e6e-a74c-1ed32005cf0f\">ChatGPT Boot Camp: Basics &amp; Best Uses</a></h3><p>Join us for an exciting journey into the world of AI chatbots with this 5-day bootcamp. You'll learn</p><ul class=\"courses-box-footer d-flex justify-content-between align-items-center\"><li><i class=\"flaticon-agenda\"></i> <!-- -->5<!-- --> Lessons</li><li><div class=\"others-option d-flex align-items-center\"><a class=\"BookDemo-btn px-2\" href=\"/courses/24e3bb16-bc23-4e6e-a74c-1ed32005cf0f\" id=\"BookDemo-btn\">View Details<span></span></a></div></li></ul></div>,\n",
       " <div class=\"courses-content\"><h3><a href=\"/courses/31e70d66-efd5-44fc-929c-7de0e524624b\">Create-A-Bot: A Project-Based Robotics Exploration</a></h3><p>Ignite your child's tech curiosity with our \"RoboRacers\" camp! Over five days, campers will delve in</p><ul class=\"courses-box-footer d-flex justify-content-between align-items-center\"><li><i class=\"flaticon-agenda\"></i> <!-- -->5<!-- --> Lessons</li><li><div class=\"others-option d-flex align-items-center\"><a class=\"BookDemo-btn px-2\" href=\"/courses/31e70d66-efd5-44fc-929c-7de0e524624b\" id=\"BookDemo-btn\">View Details<span></span></a></div></li></ul></div>,\n",
       " <div class=\"courses-content\"><h3><a href=\"/courses/89d301ea-ff81-4224-8d38-a35e8575bffd\">Java &amp; Proramming</a></h3><p>\" Project outline for JAVA PROJECT BASED BOOTCAMP\n",
       " 1: Introduction to Java and Programming Basics.\n",
       " 2.</p><ul class=\"courses-box-footer d-flex justify-content-between align-items-center\"><li><i class=\"flaticon-agenda\"></i> <!-- -->8<!-- --> Lessons</li><li><div class=\"others-option d-flex align-items-center\"><a class=\"BookDemo-btn px-2\" href=\"/courses/89d301ea-ff81-4224-8d38-a35e8575bffd\" id=\"BookDemo-btn\">View Details<span></span></a></div></li></ul></div>,\n",
       " <div class=\"courses-content\"><h3><a href=\"/courses/1af061fc-0890-40ac-98ae-01285283c5ff\">Chatbot Creators: Design a ChatGPT-like AI</a></h3><p>Join us on a 7-day bootcamp to step into the world of AI and create your own chatbot like ChatGPT. Y</p><ul class=\"courses-box-footer d-flex justify-content-between align-items-center\"><li><i class=\"flaticon-agenda\"></i> <!-- -->7<!-- --> Lessons</li><li><div class=\"others-option d-flex align-items-center\"><a class=\"BookDemo-btn px-2\" href=\"/courses/1af061fc-0890-40ac-98ae-01285283c5ff\" id=\"BookDemo-btn\">View Details<span></span></a></div></li></ul></div>,\n",
       " <div class=\"courses-content\"><h3><a href=\"/courses/37b3b505-f8ca-4fd6-92e1-56da829f1805\">Web Development from scratch</a></h3><p>Unlock the boundless potential of web development with our \"Web Development Essentials\" course. Whet</p><ul class=\"courses-box-footer d-flex justify-content-between align-items-center\"><li><i class=\"flaticon-agenda\"></i> <!-- -->6<!-- --> Lessons</li><li><div class=\"others-option d-flex align-items-center\"><a class=\"BookDemo-btn px-2\" href=\"/courses/37b3b505-f8ca-4fd6-92e1-56da829f1805\" id=\"BookDemo-btn\">View Details<span></span></a></div></li></ul></div>,\n",
       " <div class=\"courses-content\"><h3><a href=\"/courses/9829d760-3d63-456a-a1d3-25b96e554819\">Summer Camp: Introduction to Python</a></h3><p>Step into our 7-day \"Python Project Playground\" camp where coding meets creativity! Kids will explor</p><ul class=\"courses-box-footer d-flex justify-content-between align-items-center\"><li><i class=\"flaticon-agenda\"></i> <!-- -->7<!-- --> Lessons</li><li><div class=\"others-option d-flex align-items-center\"><a class=\"BookDemo-btn px-2\" href=\"/courses/9829d760-3d63-456a-a1d3-25b96e554819\" id=\"BookDemo-btn\">View Details<span></span></a></div></li></ul></div>,\n",
       " <div class=\"courses-content\"><h3><a href=\"/courses/189a9ef3-be9d-4b42-a09c-75665fa36e3e\">Summer Bootcamp with JavaScript: Real Projects, Real Results</a></h3><p>In this 5-day camp, you'll dive headfirst into JavaScript, one of the world's most popular programmi</p><ul class=\"courses-box-footer d-flex justify-content-between align-items-center\"><li><i class=\"flaticon-agenda\"></i> <!-- -->5<!-- --> Lessons</li><li><div class=\"others-option d-flex align-items-center\"><a class=\"BookDemo-btn px-2\" href=\"/courses/189a9ef3-be9d-4b42-a09c-75665fa36e3e\" id=\"BookDemo-btn\">View Details<span></span></a></div></li></ul></div>,\n",
       " <div class=\"courses-content\"><h3><a href=\"/courses/af72f1d6-ee1b-48ba-a217-30985c593bb5\">AI Secrets Revealed: Master Productivity Hacks That Will Blow Your Mind! (For Kids)</a></h3><p>Boost your productivity with AI! \n",
       " \n",
       " Join our \"AI for Productivity and Time Management\" course and lea</p><ul class=\"courses-box-footer d-flex justify-content-between align-items-center\"><li><i class=\"flaticon-agenda\"></i> <!-- -->11<!-- --> Lessons</li><li><div class=\"others-option d-flex align-items-center\"><a class=\"BookDemo-btn px-2\" href=\"/courses/af72f1d6-ee1b-48ba-a217-30985c593bb5\" id=\"BookDemo-btn\">View Details<span></span></a></div></li></ul></div>,\n",
       " <div class=\"courses-content\"><h3><a href=\"/courses/88ac0ed1-e388-41c9-a1b4-bd82beb52c10\">AI Disruption: Top Entrepreneurs Harnessing AI for Unprecedented Success! (For Kids)</a></h3><p>Understand the role and potential of AI in entrepreneurship, learn the fundamentals, explore data ac</p><ul class=\"courses-box-footer d-flex justify-content-between align-items-center\"><li><i class=\"flaticon-agenda\"></i> <!-- -->7<!-- --> Lessons</li><li><div class=\"others-option d-flex align-items-center\"><a class=\"BookDemo-btn px-2\" href=\"/courses/88ac0ed1-e388-41c9-a1b4-bd82beb52c10\" id=\"BookDemo-btn\">View Details<span></span></a></div></li></ul></div>,\n",
       " <div class=\"courses-content\"><h3><a href=\"/courses/7ad05239-54cb-4cbb-8cec-4065512db97a\">The AI Writer's Masterclass: Innovation and Inspiration in Creative Writing! (For Kids)</a></h3><p>Enhance your creative writing skills with AI! Join our 10-day course and explore AI's role in writin</p><ul class=\"courses-box-footer d-flex justify-content-between align-items-center\"><li><i class=\"flaticon-agenda\"></i> <!-- -->10<!-- --> Lessons</li><li><div class=\"others-option d-flex align-items-center\"><a class=\"BookDemo-btn px-2\" href=\"/courses/7ad05239-54cb-4cbb-8cec-4065512db97a\" id=\"BookDemo-btn\">View Details<span></span></a></div></li></ul></div>,\n",
       " <div class=\"courses-content\"><h3><a href=\"/courses/7f20a234-094c-457a-b2b4-8712bd8f0616\">Web Development Pro: Intermediate Level</a></h3><p>Ready to unlock the full potential of web development? Join our \"Intermediate Web Development Master</p><ul class=\"courses-box-footer d-flex justify-content-between align-items-center\"><li><i class=\"flaticon-agenda\"></i> <!-- -->8<!-- --> Lessons</li><li><div class=\"others-option d-flex align-items-center\"><a class=\"BookDemo-btn px-2\" href=\"/courses/7f20a234-094c-457a-b2b4-8712bd8f0616\" id=\"BookDemo-btn\">View Details<span></span></a></div></li></ul></div>,\n",
       " <div class=\"courses-content\"><h3><a href=\"/courses/03549fee-5478-4352-b146-f2a2c8561191\">Scratch Playground: Create a Scroller Game!</a></h3><p>Scratch Playground : Create a Scroller Game is an intermediate level course designed to teach kids t</p><ul class=\"courses-box-footer d-flex justify-content-between align-items-center\"><li><i class=\"flaticon-agenda\"></i> <!-- -->8<!-- --> Lessons</li><li><div class=\"others-option d-flex align-items-center\"><a class=\"BookDemo-btn px-2\" href=\"/courses/03549fee-5478-4352-b146-f2a2c8561191\" id=\"BookDemo-btn\">View Details<span></span></a></div></li></ul></div>,\n",
       " <div class=\"courses-content\"><h3><a href=\"/courses/94c549e6-ebca-4bbe-b1a8-17beda62b6d5\">AI Pro: Creative Writing Camp for Adults</a></h3><p>🚀 Welcome to Creative Writing with AI for ADULTS! \n",
       " Unleash your creativity with cutting-edge AI tec</p><ul class=\"courses-box-footer d-flex justify-content-between align-items-center\"><li><i class=\"flaticon-agenda\"></i> <!-- -->10<!-- --> Lessons</li><li><div class=\"others-option d-flex align-items-center\"><a class=\"BookDemo-btn px-2\" href=\"/courses/94c549e6-ebca-4bbe-b1a8-17beda62b6d5\" id=\"BookDemo-btn\">View Details<span></span></a></div></li></ul></div>,\n",
       " <div class=\"courses-content\"><h3><a href=\"/courses/5ba67aa9-b272-42ec-88d2-81cd5af6c643\">Python Playground: Create Your Own Snake Game</a></h3><p>Through this course, participants will learn the fundamentals of Python programming language, as wel</p><ul class=\"courses-box-footer d-flex justify-content-between align-items-center\"><li><i class=\"flaticon-agenda\"></i> <!-- -->8<!-- --> Lessons</li><li><div class=\"others-option d-flex align-items-center\"><a class=\"BookDemo-btn px-2\" href=\"/courses/5ba67aa9-b272-42ec-88d2-81cd5af6c643\" id=\"BookDemo-btn\">View Details<span></span></a></div></li></ul></div>,\n",
       " <div class=\"courses-content\"><h3><a href=\"/courses/4d6f6d90-a53f-4792-a491-1697bb384d57\">Python Playground: Create a Tic Tac Toe Game</a></h3><p>An interactive and hands-on tutorial designed to help learners build their programming skills while </p><ul class=\"courses-box-footer d-flex justify-content-between align-items-center\"><li><i class=\"flaticon-agenda\"></i> <!-- -->8<!-- --> Lessons</li><li><div class=\"others-option d-flex align-items-center\"><a class=\"BookDemo-btn px-2\" href=\"/courses/4d6f6d90-a53f-4792-a491-1697bb384d57\" id=\"BookDemo-btn\">View Details<span></span></a></div></li></ul></div>,\n",
       " <div class=\"courses-content\"><h3><a href=\"/courses/848a2ee8-b9ce-464a-bcbc-78fcdd67b9dd\">Build your own Calculator using Python Bootcamp for kids</a></h3><p>This bootcamp is a fun and engaging program designed to introduce children to the basics of programm</p><ul class=\"courses-box-footer d-flex justify-content-between align-items-center\"><li><i class=\"flaticon-agenda\"></i> <!-- -->8<!-- --> Lessons</li><li><div class=\"others-option d-flex align-items-center\"><a class=\"BookDemo-btn px-2\" href=\"/courses/848a2ee8-b9ce-464a-bcbc-78fcdd67b9dd\" id=\"BookDemo-btn\">View Details<span></span></a></div></li></ul></div>,\n",
       " <div class=\"courses-content\"><h3><a href=\"/courses/d6e5c1ea-f3bf-4435-a1c6-7566aef9ddc2\">Scratch Playground: Create a Flappy Bird Game!</a></h3><p>Scratch Playground 103: Create a Flappy Bird is a beginner to intermediate level course designed to </p><ul class=\"courses-box-footer d-flex justify-content-between align-items-center\"><li><i class=\"flaticon-agenda\"></i> <!-- -->8<!-- --> Lessons</li><li><div class=\"others-option d-flex align-items-center\"><a class=\"BookDemo-btn px-2\" href=\"/courses/d6e5c1ea-f3bf-4435-a1c6-7566aef9ddc2\" id=\"BookDemo-btn\">View Details<span></span></a></div></li></ul></div>,\n",
       " <div class=\"courses-content\"><h3><a href=\"/courses/3cdb1ba6-7b9d-4a04-8ba4-bfffbef9a77f\">HTML, CSS, JavaScript: 7-Day Summer Bootcamp</a></h3><p>Jump into the vibrant world of coding with our engaging 7-day summer camp! Starting from scratch, yo</p><ul class=\"courses-box-footer d-flex justify-content-between align-items-center\"><li><i class=\"flaticon-agenda\"></i> <!-- -->7<!-- --> Lessons</li><li><div class=\"others-option d-flex align-items-center\"><a class=\"BookDemo-btn px-2\" href=\"/courses/3cdb1ba6-7b9d-4a04-8ba4-bfffbef9a77f\" id=\"BookDemo-btn\">View Details<span></span></a></div></li></ul></div>,\n",
       " <div class=\"courses-content\"><h3><a href=\"/courses/6ffc967e-8caf-4540-b0f3-c1e684195d03\">Hands-on Java: Project-based Learning for Coding Novices</a></h3><p>Embark on a coding adventure with our \"Code, Create, Conquer\" Java camp! In just 7 days, kids will l</p><ul class=\"courses-box-footer d-flex justify-content-between align-items-center\"><li><i class=\"flaticon-agenda\"></i> <!-- -->7<!-- --> Lessons</li><li><div class=\"others-option d-flex align-items-center\"><a class=\"BookDemo-btn px-2\" href=\"/courses/6ffc967e-8caf-4540-b0f3-c1e684195d03\" id=\"BookDemo-btn\">View Details<span></span></a></div></li></ul></div>,\n",
       " <div class=\"courses-content\"><h3><a href=\"/courses/8c6151e3-3141-4a64-8fe0-d5df205e750d\">Python Playground: Create a Memory Game</a></h3><p>Python Playground: Create a Memory Game is a beginner-level course designed for kids who are interes</p><ul class=\"courses-box-footer d-flex justify-content-between align-items-center\"><li><i class=\"flaticon-agenda\"></i> <!-- -->8<!-- --> Lessons</li><li><div class=\"others-option d-flex align-items-center\"><a class=\"BookDemo-btn px-2\" href=\"/courses/8c6151e3-3141-4a64-8fe0-d5df205e750d\" id=\"BookDemo-btn\">View Details<span></span></a></div></li></ul></div>,\n",
       " <div class=\"courses-content\"><h3><a href=\"/courses/db80cdd0-d396-482a-913e-1fc81c8d9ac4\">Summer Bootcamp: 5-Day Scratch Programming for Beginners</a></h3><p>Embark on an exciting coding adventure with our 5-day Scratch Programming camp! Designed for beginne</p><ul class=\"courses-box-footer d-flex justify-content-between align-items-center\"><li><i class=\"flaticon-agenda\"></i> <!-- -->5<!-- --> Lessons</li><li><div class=\"others-option d-flex align-items-center\"><a class=\"BookDemo-btn px-2\" href=\"/courses/db80cdd0-d396-482a-913e-1fc81c8d9ac4\" id=\"BookDemo-btn\">View Details<span></span></a></div></li></ul></div>,\n",
       " <div class=\"courses-content\"><h3><a href=\"/courses/9e2df5e5-3dc5-4c87-b385-f464642d8562\">5-Day Summer Camp: Python for Beginners</a></h3><p>Dive into coding with our 5-day \"Python Playground\" camp! Kids will explore Python, a popular langua</p><ul class=\"courses-box-footer d-flex justify-content-between align-items-center\"><li><i class=\"flaticon-agenda\"></i> <!-- -->5<!-- --> Lessons</li><li><div class=\"others-option d-flex align-items-center\"><a class=\"BookDemo-btn px-2\" href=\"/courses/9e2df5e5-3dc5-4c87-b385-f464642d8562\" id=\"BookDemo-btn\">View Details<span></span></a></div></li></ul></div>,\n",
       " <div class=\"courses-content\"><h3><a href=\"/courses/0884af64-fb1b-4c15-9850-3315b99fd92d\">Build a Text analyzer using Python Bootcamp for kids</a></h3><p>The Build a Text Analyzer using Python Bootcamp for Kids is an educational program designed to intro</p><ul class=\"courses-box-footer d-flex justify-content-between align-items-center\"><li><i class=\"flaticon-agenda\"></i> <!-- -->8<!-- --> Lessons</li><li><div class=\"others-option d-flex align-items-center\"><a class=\"BookDemo-btn px-2\" href=\"/courses/0884af64-fb1b-4c15-9850-3315b99fd92d\" id=\"BookDemo-btn\">View Details<span></span></a></div></li></ul></div>,\n",
       " <div class=\"courses-content\"><h3><a href=\"/courses/4b7a6968-f8f6-4f98-bd8d-357b71ca9496\">Scratch Playground : Create a Platformer Game!</a></h3><p>Scratch Playground : Create a Platformer Game is an intermediate level course designed to teach kids</p><ul class=\"courses-box-footer d-flex justify-content-between align-items-center\"><li><i class=\"flaticon-agenda\"></i> <!-- -->8<!-- --> Lessons</li><li><div class=\"others-option d-flex align-items-center\"><a class=\"BookDemo-btn px-2\" href=\"/courses/4b7a6968-f8f6-4f98-bd8d-357b71ca9496\" id=\"BookDemo-btn\">View Details<span></span></a></div></li></ul></div>,\n",
       " <div class=\"courses-content\"><h3><a href=\"/courses/9e0490f4-e45b-41df-858c-34a4eba5836b\">Introduction to Artificial Intelligence!</a></h3><p>Welcome to the \"Introduction to Artificial Intelligence and Python\" course! This course is designed </p><ul class=\"courses-box-footer d-flex justify-content-between align-items-center\"><li><i class=\"flaticon-agenda\"></i> <!-- -->5<!-- --> Lessons</li><li><div class=\"others-option d-flex align-items-center\"><a class=\"BookDemo-btn px-2\" href=\"/courses/9e0490f4-e45b-41df-858c-34a4eba5836b\" id=\"BookDemo-btn\">View Details<span></span></a></div></li></ul></div>,\n",
       " <div class=\"courses-content\"><h3><a href=\"/courses/fd86f75c-b1b5-450d-98ee-7e3ad0b1e357\">Python Playground: Create a Rock, Paper, Scissors Game</a></h3><p>This is an engaging course designed for kids who are interested in learning programming with Python.</p><ul class=\"courses-box-footer d-flex justify-content-between align-items-center\"><li><i class=\"flaticon-agenda\"></i> <!-- -->8<!-- --> Lessons</li><li><div class=\"others-option d-flex align-items-center\"><a class=\"BookDemo-btn px-2\" href=\"/courses/fd86f75c-b1b5-450d-98ee-7e3ad0b1e357\" id=\"BookDemo-btn\">View Details<span></span></a></div></li></ul></div>,\n",
       " <div class=\"courses-content\"><h3><a href=\"/courses/c110330f-d41d-48fe-8433-88e7527c4d77\">AI in Stock Market Success: Career Growth Camp !!</a></h3><p>Are you ready to unlock the secrets of predicting stock prices using AI? 📈🤖 Join our immersive cou</p><ul class=\"courses-box-footer d-flex justify-content-between align-items-center\"><li><i class=\"flaticon-agenda\"></i> <!-- -->10<!-- --> Lessons</li><li><div class=\"others-option d-flex align-items-center\"><a class=\"BookDemo-btn px-2\" href=\"/courses/c110330f-d41d-48fe-8433-88e7527c4d77\" id=\"BookDemo-btn\">View Details<span></span></a></div></li></ul></div>,\n",
       " <div class=\"courses-content\"><h3><a href=\"/courses/1164fafc-7e5b-4126-b1d6-ce228e266345\">From Beginner to AI Pro: Kickstart Your Journey With Artificial Intelligence! (For Kids)</a></h3><p>Dive into the world of AI! 🤖 Join our \"Introduction to Artificial Intelligence\" course and unlock t</p><ul class=\"courses-box-footer d-flex justify-content-between align-items-center\"><li><i class=\"flaticon-agenda\"></i> <!-- -->20<!-- --> Lessons</li><li><div class=\"others-option d-flex align-items-center\"><a class=\"BookDemo-btn px-2\" href=\"/courses/1164fafc-7e5b-4126-b1d6-ce228e266345\" id=\"BookDemo-btn\">View Details<span></span></a></div></li></ul></div>,\n",
       " <div class=\"courses-content\"><h3><a href=\"/courses/a06e18a8-3e06-4777-85c5-fb22b35ea46d\">Game development using python</a></h3><p>\n",
       " Welcome to the \"Introduction to Python Game Development\" course! In this course, you'll embark on a</p><ul class=\"courses-box-footer d-flex justify-content-between align-items-center\"><li><i class=\"flaticon-agenda\"></i> <!-- -->4<!-- --> Lessons</li><li><div class=\"others-option d-flex align-items-center\"><a class=\"BookDemo-btn px-2\" href=\"/courses/a06e18a8-3e06-4777-85c5-fb22b35ea46d\" id=\"BookDemo-btn\">View Details<span></span></a></div></li></ul></div>,\n",
       " <div class=\"courses-content\"><h3><a href=\"/courses/50986fd0-ea11-4d2e-971f-5fb88fb81542\">Build a Image manipulator using Python Bootcamp for kids</a></h3><p>The Build a Image Manipulator using Python Bootcamp for Kids is a program designed to introduce chil</p><ul class=\"courses-box-footer d-flex justify-content-between align-items-center\"><li><i class=\"flaticon-agenda\"></i> <!-- -->8<!-- --> Lessons</li><li><div class=\"others-option d-flex align-items-center\"><a class=\"BookDemo-btn px-2\" href=\"/courses/50986fd0-ea11-4d2e-971f-5fb88fb81542\" id=\"BookDemo-btn\">View Details<span></span></a></div></li></ul></div>,\n",
       " <div class=\"courses-content\"><h3><a href=\"/courses/5f754053-de57-4f46-9bb3-b11d5c9e42e0\">Build a Weather app using Python Bootcamp for kids</a></h3><p>Build a Weather App using Python Bootcamp for Kids is an educational program designed to introduce y</p><ul class=\"courses-box-footer d-flex justify-content-between align-items-center\"><li><i class=\"flaticon-agenda\"></i> <!-- -->8<!-- --> Lessons</li><li><div class=\"others-option d-flex align-items-center\"><a class=\"BookDemo-btn px-2\" href=\"/courses/5f754053-de57-4f46-9bb3-b11d5c9e42e0\" id=\"BookDemo-btn\">View Details<span></span></a></div></li></ul></div>,\n",
       " <div class=\"courses-content\"><h3><a href=\"/courses/f6853a9e-84ce-40c6-9362-00fcf701e459\">Build Your Own Roblox Battle Arena</a></h3><p>Roblox Studio fundamentals are taught through fun and interactive projects. Lectures, projects, hand</p><ul class=\"courses-box-footer d-flex justify-content-between align-items-center\"><li><i class=\"flaticon-agenda\"></i> <!-- -->8<!-- --> Lessons</li><li><div class=\"others-option d-flex align-items-center\"><a class=\"BookDemo-btn px-2\" href=\"/courses/f6853a9e-84ce-40c6-9362-00fcf701e459\" id=\"BookDemo-btn\">View Details<span></span></a></div></li></ul></div>,\n",
       " <div class=\"courses-content\"><h3><a href=\"/courses/931b56d8-4192-43e1-ba10-0ce6f94cb2ed\">The Millionaire's AI Playbook: Learn How to Predict Stock Prices! (For Kids)</a></h3><p>Learn to predict stock prices using the incredible potential of AI and machine learning in our compr</p><ul class=\"courses-box-footer d-flex justify-content-between align-items-center\"><li><i class=\"flaticon-agenda\"></i> <!-- -->10<!-- --> Lessons</li><li><div class=\"others-option d-flex align-items-center\"><a class=\"BookDemo-btn px-2\" href=\"/courses/931b56d8-4192-43e1-ba10-0ce6f94cb2ed\" id=\"BookDemo-btn\">View Details<span></span></a></div></li></ul></div>,\n",
       " <div class=\"courses-content\"><h3><a href=\"/courses/1db857a4-f374-49fb-af9c-0f6d2e5ada45\">Machine Learning: 7-Day Project-Based Summer Camp</a></h3><p>Join our \"Machine Learning Mania\" camp for a 7-day tech adventure! Kids will tackle machine learning</p><ul class=\"courses-box-footer d-flex justify-content-between align-items-center\"><li><i class=\"flaticon-agenda\"></i> <!-- -->7<!-- --> Lessons</li><li><div class=\"others-option d-flex align-items-center\"><a class=\"BookDemo-btn px-2\" href=\"/courses/1db857a4-f374-49fb-af9c-0f6d2e5ada45\" id=\"BookDemo-btn\">View Details<span></span></a></div></li></ul></div>,\n",
       " <div class=\"courses-content\"><h3><a href=\"/courses/7f24d6b5-1645-4184-83d4-6deab75b13f1\">AI Pro Camp: Career Growth Catalyst</a></h3><p>Our Intro to AI for Adults course is designed to equip professionals with essential knowledge and pr</p><ul class=\"courses-box-footer d-flex justify-content-between align-items-center\"><li><i class=\"flaticon-agenda\"></i> <!-- -->20<!-- --> Lessons</li><li><div class=\"others-option d-flex align-items-center\"><a class=\"BookDemo-btn px-2\" href=\"/courses/7f24d6b5-1645-4184-83d4-6deab75b13f1\" id=\"BookDemo-btn\">View Details<span></span></a></div></li></ul></div>,\n",
       " <div class=\"courses-content\"><h3><a href=\"/courses/0bc0c9fa-9749-4129-91de-c286a474e9b3\">Minecraft Java Programming for Beginners</a></h3><p>Session-1: Introduction to Java programming and Minecraft. Lesson 2: Getting Started in Creative Mod</p><ul class=\"courses-box-footer d-flex justify-content-between align-items-center\"><li><i class=\"flaticon-agenda\"></i> <!-- -->7<!-- --> Lessons</li><li><div class=\"others-option d-flex align-items-center\"><a class=\"BookDemo-btn px-2\" href=\"/courses/0bc0c9fa-9749-4129-91de-c286a474e9b3\" id=\"BookDemo-btn\">View Details<span></span></a></div></li></ul></div>,\n",
       " <div class=\"courses-content\"><h3><a href=\"/courses/5abad7b0-953d-4527-8aa9-4d3ca80ff500\">Build a Chatbot using Python Bootcamp for kids</a></h3><p>This bootcamp is a fun and interactive program designed to teach children how to create their own ch</p><ul class=\"courses-box-footer d-flex justify-content-between align-items-center\"><li><i class=\"flaticon-agenda\"></i> <!-- -->8<!-- --> Lessons</li><li><div class=\"others-option d-flex align-items-center\"><a class=\"BookDemo-btn px-2\" href=\"/courses/5abad7b0-953d-4527-8aa9-4d3ca80ff500\" id=\"BookDemo-btn\">View Details<span></span></a></div></li></ul></div>,\n",
       " <div class=\"courses-content\"><h3><a href=\"/courses/7544e04d-82d5-447e-9935-c784455c2de3\">Build a Password generator using Python Bootcamp for kids</a></h3><p>Welcome to the Build a Password Generator using Python Bootcamp for Kids! In this bootcamp, you will</p><ul class=\"courses-box-footer d-flex justify-content-between align-items-center\"><li><i class=\"flaticon-agenda\"></i> <!-- -->8<!-- --> Lessons</li><li><div class=\"others-option d-flex align-items-center\"><a class=\"BookDemo-btn px-2\" href=\"/courses/7544e04d-82d5-447e-9935-c784455c2de3\" id=\"BookDemo-btn\">View Details<span></span></a></div></li></ul></div>,\n",
       " <div class=\"courses-content\"><h3><a href=\"/courses/7472b97e-7b73-42dc-b0ef-972832e7bad5\">Scratch Playground: Create a Space Game!</a></h3><p>Scratch Playground : Create a Space Game is an intermediate-level course designed to introduce kids </p><ul class=\"courses-box-footer d-flex justify-content-between align-items-center\"><li><i class=\"flaticon-agenda\"></i> <!-- -->8<!-- --> Lessons</li><li><div class=\"others-option d-flex align-items-center\"><a class=\"BookDemo-btn px-2\" href=\"/courses/7472b97e-7b73-42dc-b0ef-972832e7bad5\" id=\"BookDemo-btn\">View Details<span></span></a></div></li></ul></div>,\n",
       " <div class=\"courses-content\"><h3><a href=\"/courses/5a45c3b4-3f6e-48dc-ab92-71a1cd38db28\">Create Your Own Roblox Obstacle Course</a></h3><p>Roblox enthusiasts who want to learn how to design and build their own custom obstacle courses withi</p><ul class=\"courses-box-footer d-flex justify-content-between align-items-center\"><li><i class=\"flaticon-agenda\"></i> <!-- -->8<!-- --> Lessons</li><li><div class=\"others-option d-flex align-items-center\"><a class=\"BookDemo-btn px-2\" href=\"/courses/5a45c3b4-3f6e-48dc-ab92-71a1cd38db28\" id=\"BookDemo-btn\">View Details<span></span></a></div></li></ul></div>,\n",
       " <div class=\"courses-content\"><h3><a href=\"/courses/ebe89ac6-5b3a-479d-adab-d6e2d5297773\">Java Minecraft Creative or Survival Mode</a></h3><p>1. Title: Minecraft Java Programming for Beginners Overview: This class is designed for complete beg</p><ul class=\"courses-box-footer d-flex justify-content-between align-items-center\"><li><i class=\"flaticon-agenda\"></i> <!-- -->7<!-- --> Lessons</li><li><div class=\"others-option d-flex align-items-center\"><a class=\"BookDemo-btn px-2\" href=\"/courses/ebe89ac6-5b3a-479d-adab-d6e2d5297773\" id=\"BookDemo-btn\">View Details<span></span></a></div></li></ul></div>,\n",
       " <div class=\"courses-content\"><h3><a href=\"/courses/eab79907-4de4-4413-bb44-a92e253aa5c6\">AI Camp for Jobs &amp; Business:Build Your own ChatGPT</a></h3><p>🌟Welcome to the Chatbot Mastery Course! 🎓\n",
       " \n",
       " Get ready to unlock the secrets of building intelligent</p><ul class=\"courses-box-footer d-flex justify-content-between align-items-center\"><li><i class=\"flaticon-agenda\"></i> <!-- -->10<!-- --> Lessons</li><li><div class=\"others-option d-flex align-items-center\"><a class=\"BookDemo-btn px-2\" href=\"/courses/eab79907-4de4-4413-bb44-a92e253aa5c6\" id=\"BookDemo-btn\">View Details<span></span></a></div></li></ul></div>,\n",
       " <div class=\"courses-content\"><h3><a href=\"/courses/2bf6f84c-f096-459a-a8fb-e629d263f109\">HTML, CSS, JavaScript Essentials: 5-Day Coding Bootcamp</a></h3><p>Unleash your creativity in our fun and interactive 5-day summer camp. No prior experience needed. Yo</p><ul class=\"courses-box-footer d-flex justify-content-between align-items-center\"><li><i class=\"flaticon-agenda\"></i> <!-- -->5<!-- --> Lessons</li><li><div class=\"others-option d-flex align-items-center\"><a class=\"BookDemo-btn px-2\" href=\"/courses/2bf6f84c-f096-459a-a8fb-e629d263f109\" id=\"BookDemo-btn\">View Details<span></span></a></div></li></ul></div>]"
      ]
     },
     "execution_count": 214,
     "metadata": {},
     "output_type": "execute_result"
    }
   ],
   "source": [
    "cc"
   ]
  },
  {
   "cell_type": "code",
   "execution_count": 218,
   "metadata": {},
   "outputs": [
    {
     "data": {
      "text/plain": [
       "'LEARN SCRATCH PROGRAMING\\nScratch Course is the foundation of coding and is a building block of a coding journey. If you want 16 LessonsView Details'"
      ]
     },
     "execution_count": 218,
     "metadata": {},
     "output_type": "execute_result"
    }
   ],
   "source": [
    "cc[0].text"
   ]
  },
  {
   "cell_type": "code",
   "execution_count": 219,
   "metadata": {},
   "outputs": [
    {
     "data": {
      "text/plain": [
       "'LEARN CLOUD COMPUTING BASICS-AWS\\nIn this course we are going to cover the basics and the most important services on AWS,\\nAt the end  20 LessonsView Details'"
      ]
     },
     "execution_count": 219,
     "metadata": {},
     "output_type": "execute_result"
    }
   ],
   "source": [
    "cc[1].text"
   ]
  },
  {
   "cell_type": "code",
   "execution_count": 220,
   "metadata": {},
   "outputs": [],
   "source": [
    "list = []\n",
    "for i in range(len(cc)):\n",
    "    a = cc[i].text\n",
    "    list.append(a)\n"
   ]
  },
  {
   "cell_type": "code",
   "execution_count": 239,
   "metadata": {},
   "outputs": [
    {
     "data": {
      "text/plain": [
       "['LEARN SCRATCH PROGRAMING\\nScratch Course is the foundation of coding and is a building block of a coding journey. If you want 16 LessonsView Details',\n",
       " 'LEARN CLOUD COMPUTING BASICS-AWS\\nIn this course we are going to cover the basics and the most important services on AWS,\\nAt the end  20 LessonsView Details',\n",
       " 'LEARN MOBILE DEVELOPMENT\\nMobile application development is the process of creating software applications that run on a mobil 24 LessonsView Details',\n",
       " 'LEARN CORE JAVA PROGRAMMING ONLINE\\nJava is a very popular high-level, class-based, object-oriented programming language that is design 41 LessonsView Details',\n",
       " 'LEARN ROBOTICS\\nYou can open all kinds of doors for advancement in so many careers with a basic understanding of el 25 LessonsView Details',\n",
       " 'LEARN JAVASCRIPT\\nJavaScript is the most popular programming language in the world. It powers the entire modern web.  18 LessonsView Details',\n",
       " 'LEARN NODE JS\\nNode.js developers are in high demand and the language is used for everything from traditional web  18 LessonsView Details',\n",
       " 'LEARN CLOUD COMPUTING ADVANCE-AWSDESCRIPTION\\nThis introduction to cloud computing on Amazon AWS course takes you from the AWS Ad 18 LessonsView Details',\n",
       " 'PYTHON PROGRAMMING-BEGINNER\\nPython is a language with simple syntax, and a powerful set of libraries. It has a rich programming 16 LessonsView Details',\n",
       " 'Roblox Programming For BeginnersExplore the dynamic universe of game development with our \"Roblox Game Development Fundamentals\" cou 15 LessonsView Details',\n",
       " 'PYTHON PROGRAMMING-INTERMEDIATE\\nTake your python skills to the next level and start building real applications.\\nPython is a pro 16 LessonsView Details',\n",
       " 'PYTHON PROGRAMMING-ADVANCEIf you already know Python basics, then this training is the next step in your Python learning path  30 LessonsView Details',\n",
       " 'PYTHON PROGRAMMING GROUP CLASSES - BEGINNER\\nPython is a language with simple syntax, and a powerful set of libraries. It has a rich programming 16 LessonsView Details',\n",
       " 'Advanced Roblox Scripting Workshop\"Are you ready to unlock the full potential of your Roblox game development skills? Join our Interme 14 LessonsView Details',\n",
       " 'Robotics Adventure Awaits:Join Our Summer Camp for Young Tech Wizards!This course is designed to introduce beginners to the world of robotics. Learners will be taught the 16 LessonsView Details',\n",
       " 'Java Project-Based CourseJava Project-Based Course for Intermediate Level Students ;Overview: This course is designed for int 7 LessonsView Details',\n",
       " 'Artificial Intelligence Adventures: Building AI Chatbot Like Chatgpt (For Kids)Unlock the power of AI chatbots in our 10-day course! Gain comprehensive knowledge of chatbot develo 10 LessonsView Details',\n",
       " 'Python Playground: Create a Hangman GamePython Playground : Create a Hangman Game is an exciting and engaging course designed specifically f 8 LessonsView Details',\n",
       " 'Scratch Playground: Create a Maze Game!Scratch Playground : Create a Maze Game! is a beginner-level course designed to introduce kids to th 8 LessonsView Details',\n",
       " 'Artificial Intelligence Essentials: Summer BootcampJoin us for this engaging 5-day summer bootcamp where we will explore the fascinating world of Artif 5 LessonsView Details',\n",
       " 'Time Mastery Camp: AI for Jobs, Business, CareersThe \"AI for Productivity and Time Management\" course: 🚀💡\\nDay 1: Introduction to AI and its Applica 11 LessonsView Details',\n",
       " 'Build Your Own Theme Park in RobloxRoblox Studio fundamentals are taught through fun and interactive projects. Lectures, projects, hand 8 LessonsView Details',\n",
       " 'Java Coding Summer Camp for Young MindsJava Journey: Coding Camp for Curious Minds\" is a fun-filled, 5-day adventure into the world of prog 5 LessonsView Details',\n",
       " 'AI Camp for Entrepreneurs: Build Business SuccessWelcome to the world of AI in entrepreneurship!  In this course, we will embark on a thrilling journ 7 LessonsView Details',\n",
       " \"ChatGPT Boot Camp: Basics & Best UsesJoin us for an exciting journey into the world of AI chatbots with this 5-day bootcamp. You'll learn 5 LessonsView Details\",\n",
       " 'Create-A-Bot: A Project-Based Robotics ExplorationIgnite your child\\'s tech curiosity with our \"RoboRacers\" camp! Over five days, campers will delve in 5 LessonsView Details',\n",
       " 'Java & Proramming\" Project outline for JAVA PROJECT BASED BOOTCAMP\\n1: Introduction to Java and Programming Basics.\\n2. 8 LessonsView Details',\n",
       " 'Chatbot Creators: Design a ChatGPT-like AIJoin us on a 7-day bootcamp to step into the world of AI and create your own chatbot like ChatGPT. Y 7 LessonsView Details',\n",
       " 'Web Development from scratchUnlock the boundless potential of web development with our \"Web Development Essentials\" course. Whet 6 LessonsView Details',\n",
       " 'Summer Camp: Introduction to PythonStep into our 7-day \"Python Project Playground\" camp where coding meets creativity! Kids will explor 7 LessonsView Details',\n",
       " \"Summer Bootcamp with JavaScript: Real Projects, Real ResultsIn this 5-day camp, you'll dive headfirst into JavaScript, one of the world's most popular programmi 5 LessonsView Details\",\n",
       " 'AI Secrets Revealed: Master Productivity Hacks That Will Blow Your Mind! (For Kids)Boost your productivity with AI! \\n\\nJoin our \"AI for Productivity and Time Management\" course and lea 11 LessonsView Details',\n",
       " 'AI Disruption: Top Entrepreneurs Harnessing AI for Unprecedented Success! (For Kids)Understand the role and potential of AI in entrepreneurship, learn the fundamentals, explore data ac 7 LessonsView Details',\n",
       " \"The AI Writer's Masterclass: Innovation and Inspiration in Creative Writing! (For Kids)Enhance your creative writing skills with AI! Join our 10-day course and explore AI's role in writin 10 LessonsView Details\",\n",
       " 'Web Development Pro: Intermediate LevelReady to unlock the full potential of web development? Join our \"Intermediate Web Development Master 8 LessonsView Details',\n",
       " 'Scratch Playground: Create a Scroller Game!Scratch Playground : Create a Scroller Game is an intermediate level course designed to teach kids t 8 LessonsView Details',\n",
       " 'AI Pro: Creative Writing Camp for Adults🚀 Welcome to Creative Writing with AI for ADULTS! \\nUnleash your creativity with cutting-edge AI tec 10 LessonsView Details',\n",
       " 'Python Playground: Create Your Own Snake GameThrough this course, participants will learn the fundamentals of Python programming language, as wel 8 LessonsView Details',\n",
       " 'Python Playground: Create a Tic Tac Toe GameAn interactive and hands-on tutorial designed to help learners build their programming skills while  8 LessonsView Details',\n",
       " 'Build your own Calculator using Python Bootcamp for kidsThis bootcamp is a fun and engaging program designed to introduce children to the basics of programm 8 LessonsView Details',\n",
       " 'Scratch Playground: Create a Flappy Bird Game!Scratch Playground 103: Create a Flappy Bird is a beginner to intermediate level course designed to  8 LessonsView Details',\n",
       " 'HTML, CSS, JavaScript: 7-Day Summer BootcampJump into the vibrant world of coding with our engaging 7-day summer camp! Starting from scratch, yo 7 LessonsView Details',\n",
       " 'Hands-on Java: Project-based Learning for Coding NovicesEmbark on a coding adventure with our \"Code, Create, Conquer\" Java camp! In just 7 days, kids will l 7 LessonsView Details',\n",
       " 'Python Playground: Create a Memory GamePython Playground: Create a Memory Game is a beginner-level course designed for kids who are interes 8 LessonsView Details',\n",
       " 'Summer Bootcamp: 5-Day Scratch Programming for BeginnersEmbark on an exciting coding adventure with our 5-day Scratch Programming camp! Designed for beginne 5 LessonsView Details',\n",
       " '5-Day Summer Camp: Python for BeginnersDive into coding with our 5-day \"Python Playground\" camp! Kids will explore Python, a popular langua 5 LessonsView Details',\n",
       " 'Build a Text analyzer using Python Bootcamp for kidsThe Build a Text Analyzer using Python Bootcamp for Kids is an educational program designed to intro 8 LessonsView Details',\n",
       " 'Scratch Playground : Create a Platformer Game!Scratch Playground : Create a Platformer Game is an intermediate level course designed to teach kids 8 LessonsView Details',\n",
       " 'Introduction to Artificial Intelligence!Welcome to the \"Introduction to Artificial Intelligence and Python\" course! This course is designed  5 LessonsView Details',\n",
       " 'Python Playground: Create a Rock, Paper, Scissors GameThis is an engaging course designed for kids who are interested in learning programming with Python. 8 LessonsView Details',\n",
       " 'AI in Stock Market Success: Career Growth Camp !!Are you ready to unlock the secrets of predicting stock prices using AI? 📈🤖 Join our immersive cou 10 LessonsView Details',\n",
       " 'From Beginner to AI Pro: Kickstart Your Journey With Artificial Intelligence! (For Kids)Dive into the world of AI! 🤖 Join our \"Introduction to Artificial Intelligence\" course and unlock t 20 LessonsView Details',\n",
       " 'Game development using python\\nWelcome to the \"Introduction to Python Game Development\" course! In this course, you\\'ll embark on a 4 LessonsView Details',\n",
       " 'Build a Image manipulator using Python Bootcamp for kidsThe Build a Image Manipulator using Python Bootcamp for Kids is a program designed to introduce chil 8 LessonsView Details',\n",
       " 'Build a Weather app using Python Bootcamp for kidsBuild a Weather App using Python Bootcamp for Kids is an educational program designed to introduce y 8 LessonsView Details',\n",
       " 'Build Your Own Roblox Battle ArenaRoblox Studio fundamentals are taught through fun and interactive projects. Lectures, projects, hand 8 LessonsView Details',\n",
       " \"The Millionaire's AI Playbook: Learn How to Predict Stock Prices! (For Kids)Learn to predict stock prices using the incredible potential of AI and machine learning in our compr 10 LessonsView Details\",\n",
       " 'Machine Learning: 7-Day Project-Based Summer CampJoin our \"Machine Learning Mania\" camp for a 7-day tech adventure! Kids will tackle machine learning 7 LessonsView Details',\n",
       " 'AI Pro Camp: Career Growth CatalystOur Intro to AI for Adults course is designed to equip professionals with essential knowledge and pr 20 LessonsView Details',\n",
       " 'Minecraft Java Programming for BeginnersSession-1: Introduction to Java programming and Minecraft. Lesson 2: Getting Started in Creative Mod 7 LessonsView Details',\n",
       " 'Build a Chatbot using Python Bootcamp for kidsThis bootcamp is a fun and interactive program designed to teach children how to create their own ch 8 LessonsView Details',\n",
       " 'Build a Password generator using Python Bootcamp for kidsWelcome to the Build a Password Generator using Python Bootcamp for Kids! In this bootcamp, you will 8 LessonsView Details',\n",
       " 'Scratch Playground: Create a Space Game!Scratch Playground : Create a Space Game is an intermediate-level course designed to introduce kids  8 LessonsView Details',\n",
       " 'Create Your Own Roblox Obstacle CourseRoblox enthusiasts who want to learn how to design and build their own custom obstacle courses withi 8 LessonsView Details',\n",
       " 'Java Minecraft Creative or Survival Mode1. Title: Minecraft Java Programming for Beginners Overview: This class is designed for complete beg 7 LessonsView Details',\n",
       " 'AI Camp for Jobs & Business:Build Your own ChatGPT🌟Welcome to the Chatbot Mastery Course! 🎓\\n\\nGet ready to unlock the secrets of building intelligent 10 LessonsView Details',\n",
       " 'HTML, CSS, JavaScript Essentials: 5-Day Coding BootcampUnleash your creativity in our fun and interactive 5-day summer camp. No prior experience needed. Yo 5 LessonsView Details']"
      ]
     },
     "execution_count": 239,
     "metadata": {},
     "output_type": "execute_result"
    }
   ],
   "source": [
    "list"
   ]
  },
  {
   "cell_type": "markdown",
   "metadata": {},
   "source": [
    "### pps = Price per session class"
   ]
  },
  {
   "cell_type": "code",
   "execution_count": 223,
   "metadata": {},
   "outputs": [],
   "source": [
    "pps = doc.find_all('span', {'class' : 'price-per-session'})"
   ]
  },
  {
   "cell_type": "code",
   "execution_count": 224,
   "metadata": {},
   "outputs": [
    {
     "data": {
      "text/plain": [
       "67"
      ]
     },
     "execution_count": 224,
     "metadata": {},
     "output_type": "execute_result"
    }
   ],
   "source": [
    "len(pps)"
   ]
  },
  {
   "cell_type": "code",
   "execution_count": 225,
   "metadata": {},
   "outputs": [],
   "source": [
    "b = []\n",
    "for i in range(len(pps)):\n",
    "    a = pps[i].text\n",
    "    b.append(a)\n"
   ]
  },
  {
   "cell_type": "code",
   "execution_count": 226,
   "metadata": {},
   "outputs": [
    {
     "data": {
      "text/plain": [
       "['$20',\n",
       " '$30',\n",
       " '$20',\n",
       " '$20',\n",
       " '$20',\n",
       " '$20',\n",
       " '$20',\n",
       " '$35',\n",
       " '$20',\n",
       " '$30',\n",
       " '$20',\n",
       " '$25',\n",
       " '$20',\n",
       " '$30',\n",
       " '$20',\n",
       " '$20',\n",
       " '$22',\n",
       " '$20',\n",
       " '$20',\n",
       " '$13',\n",
       " '$25',\n",
       " '$20',\n",
       " '$12',\n",
       " '$25',\n",
       " '$12',\n",
       " '$13',\n",
       " '$20',\n",
       " '$13',\n",
       " '$30',\n",
       " '$11',\n",
       " '$12',\n",
       " '$22',\n",
       " '$22',\n",
       " '$22',\n",
       " '$30',\n",
       " '$20',\n",
       " '$25',\n",
       " '$20',\n",
       " '$20',\n",
       " '$20',\n",
       " '$20',\n",
       " '$12',\n",
       " '$11',\n",
       " '$20',\n",
       " '$12',\n",
       " '$12',\n",
       " '$20',\n",
       " '$20',\n",
       " '$30',\n",
       " '$20',\n",
       " '$25',\n",
       " '$22',\n",
       " '$30',\n",
       " '$20',\n",
       " '$20',\n",
       " '$20',\n",
       " '$22',\n",
       " '$11',\n",
       " '$25',\n",
       " '$20',\n",
       " '$20',\n",
       " '$20',\n",
       " '$20',\n",
       " '$20',\n",
       " '$20',\n",
       " '$25',\n",
       " '$13']"
      ]
     },
     "execution_count": 226,
     "metadata": {},
     "output_type": "execute_result"
    }
   ],
   "source": [
    "b"
   ]
  },
  {
   "cell_type": "code",
   "execution_count": 242,
   "metadata": {},
   "outputs": [
    {
     "name": "stdout",
     "output_type": "stream",
     "text": [
      "   Price                                 Course Description\n",
      "0    $20  LEARN SCRATCH PROGRAMING\\nScratch Course is th...\n",
      "1    $30  LEARN CLOUD COMPUTING BASICS-AWS\\nIn this cour...\n",
      "2    $20  LEARN MOBILE DEVELOPMENT\\nMobile application d...\n",
      "3    $20  LEARN CORE JAVA PROGRAMMING ONLINE\\nJava is a ...\n",
      "4    $20  LEARN ROBOTICS\\nYou can open all kinds of door...\n",
      "..   ...                                                ...\n",
      "62   $20  Scratch Playground: Create a Space Game!Scratc...\n",
      "63   $20  Create Your Own Roblox Obstacle CourseRoblox e...\n",
      "64   $20  Java Minecraft Creative or Survival Mode1. Tit...\n",
      "65   $25  AI Camp for Jobs & Business:Build Your own Cha...\n",
      "66   $13  HTML, CSS, JavaScript Essentials: 5-Day Coding...\n",
      "\n",
      "[67 rows x 2 columns]\n"
     ]
    }
   ],
   "source": [
    "import pandas as pd\n",
    "\n",
    "# Create a DataFrame with two columns: 'Price' and 'Course Description'\n",
    "df = pd.DataFrame({'Price': b, 'Course Description': list})\n",
    "df.to_csv('course_data.csv', index=False)\n",
    "print(df)\n"
   ]
  },
  {
   "cell_type": "code",
   "execution_count": 243,
   "metadata": {},
   "outputs": [
    {
     "name": "stdout",
     "output_type": "stream",
     "text": [
      "Dataset has been saved to Course.jsonl\n"
     ]
    }
   ],
   "source": [
    "import pandas as pd\n",
    "import json\n",
    "csv_file_path = \"course_data.csv\"\n",
    "df = pd.read_csv(csv_file_path)\n",
    "jsonl_file_path = \"Course.jsonl\"\n",
    "with open(jsonl_file_path, \"w\") as jsonl_file:\n",
    "    for index, row in df.iterrows():\n",
    "        item = {\n",
    "            \"text\": f\"This course {row['Course Description']} and costs {row['Price']}\"\n",
    "        }\n",
    "        jsonl_file.write(json.dumps(item) + \"\\n\")\n",
    "print(f\"Dataset has been saved to {jsonl_file_path}\")"
   ]
  },
  {
   "cell_type": "markdown",
   "metadata": {},
   "source": [
    "### The model i will be going with is meta's llama 2 7b. that has trainable params: 4,194,304 || all params: 6,742,609,920 || trainable%: 0.06220594176090199"
   ]
  },
  {
   "cell_type": "code",
   "execution_count": 229,
   "metadata": {},
   "outputs": [
    {
     "name": "stderr",
     "output_type": "stream",
     "text": [
      "\n",
      "[notice] A new release of pip available: 22.3.1 -> 23.2.1\n",
      "[notice] To update, run: python.exe -m pip install --upgrade pip\n"
     ]
    }
   ],
   "source": [
    "!pip install datasets --quiet"
   ]
  },
  {
   "cell_type": "markdown",
   "metadata": {},
   "source": [
    "### I am pusing the model to replicate beacause i had got 2000$ in credits when i participated in stanford finetuning hackathon few months ago."
   ]
  },
  {
   "cell_type": "code",
   "execution_count": null,
   "metadata": {},
   "outputs": [],
   "source": [
    "# RESPONSE=$(curl -s -X POST -H \"Authorization: Token $REPLICATE_API_TOKEN\" https://dreambooth-api-experimental.replicate.com/v1/upload/course.jsonl)\n",
    "\n",
    "# curl -X PUT -H \"Content-Type: application/jsonl\" --upload-file course.jsonl \"$(jq -r \".upload_url\" <<< \"$RESPONSE\")\"\n",
    "\n",
    "# SERVING_URL=$(jq -r \".serving_url\" <<< $RESPONSE)\n",
    "# echo $SERVING_URL\n",
    "\n",
    "# export REPLICATE_API_TOKEN=r8_1T5ihHemInjAEtzTKkZS8bCWWoYo7n126yFc1"
   ]
  },
  {
   "cell_type": "code",
   "execution_count": 233,
   "metadata": {},
   "outputs": [
    {
     "name": "stderr",
     "output_type": "stream",
     "text": [
      "\n",
      "[notice] A new release of pip available: 22.3.1 -> 23.2.1\n",
      "[notice] To update, run: python.exe -m pip install --upgrade pip\n"
     ]
    },
    {
     "name": "stdout",
     "output_type": "stream",
     "text": [
      "Collecting replicate\n",
      "  Downloading replicate-0.13.0-py3-none-any.whl (24 kB)\n",
      "Requirement already satisfied: packaging in c:\\my files\\project\\web scrapping\\venv\\lib\\site-packages (from replicate) (23.1)\n",
      "Requirement already satisfied: requests>2 in c:\\my files\\project\\web scrapping\\venv\\lib\\site-packages (from replicate) (2.31.0)\n",
      "Requirement already satisfied: pydantic>1 in c:\\my files\\project\\web scrapping\\venv\\lib\\site-packages (from replicate) (2.3.0)\n",
      "Requirement already satisfied: pydantic-core==2.6.3 in c:\\my files\\project\\web scrapping\\venv\\lib\\site-packages (from pydantic>1->replicate) (2.6.3)\n",
      "Requirement already satisfied: typing-extensions>=4.6.1 in c:\\my files\\project\\web scrapping\\venv\\lib\\site-packages (from pydantic>1->replicate) (4.8.0)\n",
      "Requirement already satisfied: annotated-types>=0.4.0 in c:\\my files\\project\\web scrapping\\venv\\lib\\site-packages (from pydantic>1->replicate) (0.5.0)\n",
      "Requirement already satisfied: urllib3<3,>=1.21.1 in c:\\my files\\project\\web scrapping\\venv\\lib\\site-packages (from requests>2->replicate) (2.0.4)\n",
      "Requirement already satisfied: idna<4,>=2.5 in c:\\my files\\project\\web scrapping\\venv\\lib\\site-packages (from requests>2->replicate) (3.4)\n",
      "Requirement already satisfied: charset-normalizer<4,>=2 in c:\\my files\\project\\web scrapping\\venv\\lib\\site-packages (from requests>2->replicate) (3.2.0)\n",
      "Requirement already satisfied: certifi>=2017.4.17 in c:\\my files\\project\\web scrapping\\venv\\lib\\site-packages (from requests>2->replicate) (2023.7.22)\n",
      "Installing collected packages: replicate\n",
      "Successfully installed replicate-0.13.0\n"
     ]
    }
   ],
   "source": [
    "!pip install replicate\n",
    "#use the following API token \n",
    "from getpass import getpass\n",
    "import os\n",
    "\n",
    "REPLICATE_API_TOKEN = getpass()\n",
    "os.environ[\"REPLICATE_API_TOKEN\"] = REPLICATE_API_TOKEN"
   ]
  },
  {
   "cell_type": "code",
   "execution_count": 234,
   "metadata": {},
   "outputs": [],
   "source": [
    "import replicate"
   ]
  },
  {
   "cell_type": "markdown",
   "metadata": {},
   "source": [
    "The model that i would be finetuning is llama 2 7b chat the reason being the size of the dataset constrainds around time and the GPU intensive nature of large models "
   ]
  },
  {
   "cell_type": "code",
   "execution_count": 251,
   "metadata": {},
   "outputs": [
    {
     "name": "stdout",
     "output_type": "stream",
     "text": [
      "id='xg3isedbworw4frbj7zydzqwka' version=None destination=None status='starting' input={'micro_batch_size': 1, 'num_train_epochs': 1, 'pack_sequences': False, 'train_batch_size': 1, 'train_data': 'https://replicate.delivery/pbxt/JYVfypqa2H1qnytqovb0ztie08rdnccqTVO9rw2EuxIUtCYf/course.jsonl'} output=None logs='' error=None created_at='2023-09-19T15:41:18.292574754Z' started_at=None completed_at=None urls={'cancel': 'https://api.replicate.com/v1/predictions/xg3isedbworw4frbj7zydzqwka/cancel', 'get': 'https://api.replicate.com/v1/predictions/xg3isedbworw4frbj7zydzqwka'}\n"
     ]
    }
   ],
   "source": [
    "training = replicate.trainings.create(\n",
    "  version=\"meta/llama-2-7b-chat:8e6975e5ed6174911a6ff3d60540dfd4844201974602551e10e9e87ab143d81e\", # The model version i will be using\n",
    "  input={\n",
    "    \"train_data\": \"https://replicate.delivery/pbxt/JYVfypqa2H1qnytqovb0ztie08rdnccqTVO9rw2EuxIUtCYf/course.jsonl\", #Link of the dataset i pushed\n",
    "  \"num_train_epochs\": 1,\n",
    "  \"train_batch_size\" : 1,\n",
    "  \"micro_batch_size\" : 1,\n",
    "  # # \"run_validation\" : False,\n",
    "  \"learning_rate\" : 1e-4,\n",
    "  \"pack_sequences\" : False, # These two parameters helps to avoide bottlenecking but i dont think we would need them for 7b\n",
    "  \"chunk_size\" : 1000,\n",
    "  \"peft_method\" : 'qlora', # The options i have are qlora and lora from my previous experimentations i feel like lora's performance is better\n",
    "  \"seed\" : 42,\n",
    "  \"lora_rank\" : 8,\n",
    "  \"lora_alpha\" : 16,\n",
    "  \"lora_dropout\" : 0.05,\n",
    "  },\n",
    "  destination=\"tanzir11/llm\" # the replicate repository i would be hosting the model in, so that later i can call the model for inference\n",
    ")\n",
    "\n",
    "print(training)"
   ]
  },
  {
   "cell_type": "code",
   "execution_count": 252,
   "metadata": {},
   "outputs": [
    {
     "name": "stdout",
     "output_type": "stream",
     "text": [
      "Requirement already satisfied: langchain in c:\\my files\\project\\web scrapping\\venv\\lib\\site-packages (0.0.294)"
     ]
    },
    {
     "name": "stderr",
     "output_type": "stream",
     "text": [
      "\n",
      "[notice] A new release of pip available: 22.3.1 -> 23.2.1\n",
      "[notice] To update, run: python.exe -m pip install --upgrade pip\n"
     ]
    },
    {
     "name": "stdout",
     "output_type": "stream",
     "text": [
      "\n",
      "Requirement already satisfied: numpy<2,>=1 in c:\\my files\\project\\web scrapping\\venv\\lib\\site-packages (from langchain) (1.26.0)\n",
      "Requirement already satisfied: numexpr<3.0.0,>=2.8.4 in c:\\my files\\project\\web scrapping\\venv\\lib\\site-packages (from langchain) (2.8.6)\n",
      "Requirement already satisfied: SQLAlchemy<3,>=1.4 in c:\\my files\\project\\web scrapping\\venv\\lib\\site-packages (from langchain) (2.0.21)\n",
      "Requirement already satisfied: aiohttp<4.0.0,>=3.8.3 in c:\\my files\\project\\web scrapping\\venv\\lib\\site-packages (from langchain) (3.8.5)\n",
      "Requirement already satisfied: tenacity<9.0.0,>=8.1.0 in c:\\my files\\project\\web scrapping\\venv\\lib\\site-packages (from langchain) (8.2.3)\n",
      "Requirement already satisfied: async-timeout<5.0.0,>=4.0.0 in c:\\my files\\project\\web scrapping\\venv\\lib\\site-packages (from langchain) (4.0.3)\n",
      "Requirement already satisfied: langsmith<0.1.0,>=0.0.38 in c:\\my files\\project\\web scrapping\\venv\\lib\\site-packages (from langchain) (0.0.38)\n",
      "Requirement already satisfied: requests<3,>=2 in c:\\my files\\project\\web scrapping\\venv\\lib\\site-packages (from langchain) (2.31.0)\n",
      "Requirement already satisfied: pydantic<3,>=1 in c:\\my files\\project\\web scrapping\\venv\\lib\\site-packages (from langchain) (2.3.0)\n",
      "Requirement already satisfied: dataclasses-json<0.6.0,>=0.5.7 in c:\\my files\\project\\web scrapping\\venv\\lib\\site-packages (from langchain) (0.5.14)\n",
      "Requirement already satisfied: PyYAML>=5.3 in c:\\my files\\project\\web scrapping\\venv\\lib\\site-packages (from langchain) (6.0.1)\n",
      "Requirement already satisfied: yarl<2.0,>=1.0 in c:\\my files\\project\\web scrapping\\venv\\lib\\site-packages (from aiohttp<4.0.0,>=3.8.3->langchain) (1.9.2)\n",
      "Requirement already satisfied: attrs>=17.3.0 in c:\\my files\\project\\web scrapping\\venv\\lib\\site-packages (from aiohttp<4.0.0,>=3.8.3->langchain) (23.1.0)\n",
      "Requirement already satisfied: aiosignal>=1.1.2 in c:\\my files\\project\\web scrapping\\venv\\lib\\site-packages (from aiohttp<4.0.0,>=3.8.3->langchain) (1.3.1)\n",
      "Requirement already satisfied: frozenlist>=1.1.1 in c:\\my files\\project\\web scrapping\\venv\\lib\\site-packages (from aiohttp<4.0.0,>=3.8.3->langchain) (1.4.0)\n",
      "Requirement already satisfied: charset-normalizer<4.0,>=2.0 in c:\\my files\\project\\web scrapping\\venv\\lib\\site-packages (from aiohttp<4.0.0,>=3.8.3->langchain) (3.2.0)\n",
      "Requirement already satisfied: multidict<7.0,>=4.5 in c:\\my files\\project\\web scrapping\\venv\\lib\\site-packages (from aiohttp<4.0.0,>=3.8.3->langchain) (6.0.4)\n",
      "Requirement already satisfied: marshmallow<4.0.0,>=3.18.0 in c:\\my files\\project\\web scrapping\\venv\\lib\\site-packages (from dataclasses-json<0.6.0,>=0.5.7->langchain) (3.20.1)\n",
      "Requirement already satisfied: typing-inspect<1,>=0.4.0 in c:\\my files\\project\\web scrapping\\venv\\lib\\site-packages (from dataclasses-json<0.6.0,>=0.5.7->langchain) (0.9.0)\n",
      "Requirement already satisfied: pydantic-core==2.6.3 in c:\\my files\\project\\web scrapping\\venv\\lib\\site-packages (from pydantic<3,>=1->langchain) (2.6.3)\n",
      "Requirement already satisfied: annotated-types>=0.4.0 in c:\\my files\\project\\web scrapping\\venv\\lib\\site-packages (from pydantic<3,>=1->langchain) (0.5.0)\n",
      "Requirement already satisfied: typing-extensions>=4.6.1 in c:\\my files\\project\\web scrapping\\venv\\lib\\site-packages (from pydantic<3,>=1->langchain) (4.8.0)\n",
      "Requirement already satisfied: idna<4,>=2.5 in c:\\my files\\project\\web scrapping\\venv\\lib\\site-packages (from requests<3,>=2->langchain) (3.4)\n",
      "Requirement already satisfied: certifi>=2017.4.17 in c:\\my files\\project\\web scrapping\\venv\\lib\\site-packages (from requests<3,>=2->langchain) (2023.7.22)\n",
      "Requirement already satisfied: urllib3<3,>=1.21.1 in c:\\my files\\project\\web scrapping\\venv\\lib\\site-packages (from requests<3,>=2->langchain) (2.0.4)\n",
      "Requirement already satisfied: greenlet!=0.4.17 in c:\\my files\\project\\web scrapping\\venv\\lib\\site-packages (from SQLAlchemy<3,>=1.4->langchain) (2.0.2)\n",
      "Requirement already satisfied: packaging>=17.0 in c:\\my files\\project\\web scrapping\\venv\\lib\\site-packages (from marshmallow<4.0.0,>=3.18.0->dataclasses-json<0.6.0,>=0.5.7->langchain) (23.1)\n",
      "Requirement already satisfied: mypy-extensions>=0.3.0 in c:\\my files\\project\\web scrapping\\venv\\lib\\site-packages (from typing-inspect<1,>=0.4.0->dataclasses-json<0.6.0,>=0.5.7->langchain) (1.0.0)\n"
     ]
    }
   ],
   "source": [
    "!pip install langchain"
   ]
  },
  {
   "cell_type": "code",
   "execution_count": 253,
   "metadata": {},
   "outputs": [],
   "source": [
    "from langchain.llms import Replicate\n",
    "from langchain import PromptTemplate, LLMChain"
   ]
  },
  {
   "cell_type": "code",
   "execution_count": 256,
   "metadata": {},
   "outputs": [
    {
     "name": "stderr",
     "output_type": "stream",
     "text": [
      "Init param `input` is deprecated, please use `model_kwargs` instead.\n"
     ]
    },
    {
     "data": {
      "text/plain": [
       "' Thank you for the introduction! I am here to assist you with your query on the cost of learning cloud computing basics through Brainlox. However, I must inform you that Brainlox is an ed-tech platform that offers various courses and training programs in different fields, including cloud computing. Therefore, the cost of learning cloud computing basics through Brainlox may vary depending on the specific course or program you choose.\\nI cannot provide exact pricing details for Brainlox without access to their website or official documentation. However, I can suggest some general ways to find the cost of their courses:'"
      ]
     },
     "execution_count": 256,
     "metadata": {},
     "output_type": "execute_result"
    }
   ],
   "source": [
    "llm = Replicate(\n",
    "    model=\"tanzir11/llm:0115fd6c6a9b1deed47a63258c13a0ee65cc3eeb5c20a747bbd651914e602237\",\n",
    "    input={\"temperature\": 0.75, \"max_length\": 4000, \"top_p\": 1},\n",
    ")\n",
    "prompt = \"\"\"\n",
    "\"prompt\": \"What is cost of LEARNING CLOUD COMPUTING BASICS-AWS in Brainlox\",\n",
    "\"system_prompt\": \"You are a helpful, respectful and honest assistant. Always answer as helpfully as possible, while being safe. Your answers should not include any harmful, unethical, racist, sexist, toxic, dangerous, or illegal content. Please ensure that your responses are socially unbiased and positive in nature.\n",
    "\n",
    "If a question does not make any sense, or is not factually coherent, explain why instead of answering something not correct. If you don't know the answer to a question, please don't share false information.\"\n",
    "\"\"\"\n",
    "llm(prompt)"
   ]
  },
  {
   "cell_type": "markdown",
   "metadata": {},
   "source": [
    "### If i was finetuning the model locally following is how i would do it."
   ]
  },
  {
   "cell_type": "code",
   "execution_count": 230,
   "metadata": {},
   "outputs": [
    {
     "name": "stderr",
     "output_type": "stream",
     "text": [
      "c:\\My Files\\Project\\Web scrapping\\venv\\lib\\site-packages\\tqdm\\auto.py:21: TqdmWarning: IProgress not found. Please update jupyter and ipywidgets. See https://ipywidgets.readthedocs.io/en/stable/user_install.html\n",
      "  from .autonotebook import tqdm as notebook_tqdm\n",
      "Downloading data files: 100%|██████████| 1/1 [00:00<?, ?it/s]\n",
      "Extracting data files: 100%|██████████| 1/1 [00:00<00:00, 30.50it/s]\n",
      "Generating train split: 67 examples [00:00, 1251.23 examples/s]\n"
     ]
    }
   ],
   "source": [
    "from datasets import load_dataset\n",
    "import pandas as pd\n",
    "\n",
    "# Load the JSONL dataset\n",
    "dataset = load_dataset('json', data_files='course.jsonl')\n",
    "\n",
    "# Convert the dataset to a pandas DataFrame if needed\n",
    "df = pd.DataFrame(dataset['train'])\n",
    "\n",
    "# Shuffle the dataset\n",
    "df = df.sample(frac=1).reset_index(drop=True)\n"
   ]
  },
  {
   "cell_type": "code",
   "execution_count": 231,
   "metadata": {},
   "outputs": [
    {
     "name": "stderr",
     "output_type": "stream",
     "text": [
      "\n",
      "[notice] A new release of pip available: 22.3.1 -> 23.2.1\n",
      "[notice] To update, run: python.exe -m pip install --upgrade pip\n"
     ]
    }
   ],
   "source": [
    "!pip install -q accelerate peft bitsandbytes transformers trl langchain xformers"
   ]
  },
  {
   "cell_type": "code",
   "execution_count": null,
   "metadata": {},
   "outputs": [],
   "source": [
    "# all the necessassory librarys\n",
    "import os\n",
    "import torch\n",
    "from datasets import load_dataset\n",
    "from transformers import (\n",
    "    AutoModelForCausalLM,\n",
    "    AutoTokenizer,\n",
    "    BitsAndBytesConfig,\n",
    "    HfArgumentParser,\n",
    "    TrainingArguments,\n",
    "    pipeline,\n",
    "    logging,\n",
    ")\n",
    "from peft import LoraConfig, PeftModel\n",
    "from trl import SFTTrainer"
   ]
  },
  {
   "cell_type": "code",
   "execution_count": null,
   "metadata": {},
   "outputs": [],
   "source": [
    "# Providing hugging face api key so that i can access the model\n",
    "from huggingface_hub import login\n",
    "login()"
   ]
  },
  {
   "cell_type": "code",
   "execution_count": 258,
   "metadata": {},
   "outputs": [],
   "source": [
    "model_name = \"meta-llama/Llama-2-13b-chat-hf\"\n",
    "new_model = \"llama-2-13b-ft\"\n",
    "lora_r = 64\n",
    "lora_alpha = 16\n",
    "lora_dropout = 0.1\n",
    "use_4bit = True\n",
    "bnb_4bit_compute_dtype = \"float16\"\n",
    "bnb_4bit_quant_type = \"nf4\"\n",
    "use_nested_quant = False\n",
    "output_dir = \"./NDA_weights/results\"\n",
    "num_train_epochs = 20 \n",
    "fp16 = False \n",
    "bf16 = True \n",
    "per_device_train_batch_size = 2\n",
    "per_device_eval_batch_size = 2\n",
    "gradient_accumulation_steps = 2\n",
    "gradient_checkpointing = True\n",
    "max_grad_norm = 1 \n",
    "learning_rate = 1e-5\n",
    "weight_decay = 0.0 \n",
    "optim = \"adamw_hf\"\n",
    "lr_scheduler_type = \"linear\" #constant\n",
    "max_steps = -1 \n",
    "warmup_ratio = 0.0 \n",
    "group_by_length = True\n",
    "save_steps = 10\n",
    "logging_steps = 1\n",
    "max_seq_length = 3000 \n",
    "packing = False\n",
    "device_map = {\"\": 0}"
   ]
  },
  {
   "cell_type": "code",
   "execution_count": null,
   "metadata": {},
   "outputs": [],
   "source": [
    "# I would be using hugging face SFTtrainer to train the model\n",
    "from peft import get_peft_model, LoraConfig, TaskType\n",
    "# Load tokenizer and model with QLoRA configuration\n",
    "compute_dtype = getattr(torch, bnb_4bit_compute_dtype)\n",
    "\n",
    "bnb_config = BitsAndBytesConfig(\n",
    "    load_in_4bit=use_4bit,\n",
    "    bnb_4bit_quant_type=bnb_4bit_quant_type,\n",
    "    bnb_4bit_compute_dtype=compute_dtype,\n",
    "    bnb_4bit_use_double_quant=use_nested_quant,\n",
    ")\n",
    "\n",
    "# Check GPU compatibility with bfloat16\n",
    "if compute_dtype == torch.float16 and use_4bit:\n",
    "    major, _ = torch.cuda.get_device_capability()\n",
    "    if major >= 8:\n",
    "        print(\"=\" * 80)\n",
    "        print(\"Your GPU supports bfloat16: accelerate training with bf16=True\")\n",
    "        print(\"=\" * 80)\n",
    "\n",
    "# Load base model\n",
    "model = AutoModelForCausalLM.from_pretrained(\n",
    "    model_name,\n",
    "    quantization_config=bnb_config,\n",
    "    device_map=device_map\n",
    ")\n",
    "model.config.use_cache = False\n",
    "model.config.pretraining_tp = 1\n",
    "\n",
    "# Load LLaMA tokenizer\n",
    "tokenizer = AutoTokenizer.from_pretrained(model_name, trust_remote_code=True)\n",
    "tokenizer.pad_token = tokenizer.eos_token\n",
    "tokenizer.padding_side = \"right\" # Fix weird overflow issue with fp16 training\n",
    "\n",
    "# Load LoRA configuration\n",
    "peft_config = LoraConfig(\n",
    "    lora_alpha=lora_alpha,\n",
    "    lora_dropout=lora_dropout,\n",
    "    r=lora_r,\n",
    "    bias=\"none\",\n",
    "    task_type=\"CAUSAL_LM\"\n",
    ")\n",
    "\n",
    "# Set training parameters\n",
    "training_arguments = TrainingArguments(\n",
    "    output_dir=output_dir,\n",
    "    num_train_epochs=num_train_epochs,\n",
    "    per_device_train_batch_size=per_device_train_batch_size,\n",
    "    gradient_accumulation_steps=gradient_accumulation_steps,\n",
    "    optim=optim,\n",
    "    save_steps=save_steps,\n",
    "    logging_steps=logging_steps,\n",
    "    learning_rate=learning_rate,\n",
    "    weight_decay=weight_decay,\n",
    "    fp16=fp16,\n",
    "    bf16=bf16,\n",
    "    max_grad_norm=max_grad_norm,\n",
    "    max_steps=max_steps,\n",
    "    warmup_ratio=warmup_ratio,\n",
    "    group_by_length=group_by_length,\n",
    "    lr_scheduler_type=lr_scheduler_type,\n",
    "    report_to=\"tensorboard\"\n",
    ")\n",
    "\n",
    "# Set supervised fine-tuning parameters\n",
    "trainer = SFTTrainer(\n",
    "    model=model,\n",
    "    train_dataset=dataset,\n",
    "    peft_config=peft_config,\n",
    "    dataset_text_field=\"text\",\n",
    "    max_seq_length=max_seq_length,\n",
    "    tokenizer=tokenizer,\n",
    "    args=training_arguments,\n",
    "    packing=packing,\n",
    ")\n",
    "\n",
    "# Train model\n",
    "trainer.train()\n",
    "\n",
    "# Save trained model\n",
    "trainer.model.save_pretrained(output_dir)"
   ]
  },
  {
   "cell_type": "markdown",
   "metadata": {},
   "source": [
    "After running the above code fine tuning would have started depending upon the GPU availability time would have been decided"
   ]
  },
  {
   "cell_type": "markdown",
   "metadata": {},
   "source": [
    "Once the fine tuning would have been compleated I would take the parameters from the finetuned model and merge it with the base model"
   ]
  },
  {
   "cell_type": "code",
   "execution_count": null,
   "metadata": {},
   "outputs": [],
   "source": [
    "base_model = AutoModelForCausalLM.from_pretrained(\n",
    "    model_name,\n",
    "    low_cpu_mem_usage=True,\n",
    "    return_dict=True,\n",
    "    torch_dtype=torch.float16,\n",
    "    device_map=device_map,\n",
    ")\n",
    "model = PeftModel.from_pretrained(base_model, output_dir)\n",
    "model = model.merge_and_unload()\n",
    "tokenizer = AutoTokenizer.from_pretrained(model_name, trust_remote_code=True)\n",
    "tokenizer.pad_token = tokenizer.eos_token\n",
    "tokenizer.padding_side = \"right\""
   ]
  },
  {
   "cell_type": "code",
   "execution_count": null,
   "metadata": {},
   "outputs": [],
   "source": [
    "import transformers\n",
    "generate_text = transformers.pipeline(\n",
    "    model=model, tokenizer=tokenizer,\n",
    "    return_full_text=True, \n",
    "    task='text-generation',\n",
    "    temperature=0.5, \n",
    "    max_new_tokens=4000,\n",
    "    repetition_penalty=1.2\n",
    ") "
   ]
  },
  {
   "cell_type": "code",
   "execution_count": null,
   "metadata": {},
   "outputs": [],
   "source": [
    "from langchain.llms import HuggingFacePipeline\n",
    "\n",
    "llm = HuggingFacePipeline(pipeline=generate_text)"
   ]
  },
  {
   "cell_type": "code",
   "execution_count": null,
   "metadata": {},
   "outputs": [],
   "source": [
    "llm(prompt= f\"\"\"Prompts\n",
    "\"\"\")"
   ]
  },
  {
   "cell_type": "markdown",
   "metadata": {},
   "source": [
    "Pushed the model on hugging face so that i can use it further for the inferencing i personally would avoide this approach and have used Amazon GPU's to eradicate price and privacy concerns which i have worked on in the past as well."
   ]
  },
  {
   "cell_type": "code",
   "execution_count": null,
   "metadata": {},
   "outputs": [],
   "source": [
    "model.push_to_hub(\"Contracts\")\n",
    "tokenizer.push_to_hub(\"Contracts\")"
   ]
  },
  {
   "cell_type": "code",
   "execution_count": null,
   "metadata": {},
   "outputs": [],
   "source": [
    "API_URL = \"https://wgbq2iec83cc17j7.us-east-1.aws.endpoints.huggingface.cloud\"\n",
    "HUGGINGFACE_TOKEN = \"HUGGING FACE TOKEN\"\n",
    "\n",
    "headers = {\"Authorization\": f\"Bearer {HUGGINGFACE_TOKEN}\"}\n",
    "\n",
    "prompt = f\"\"\"<s>[INST] <<SYS>>\n",
    "\n",
    "<</SYS>>\n",
    "\n",
    "[INST]\n",
    "\"\"\"\n",
    "\n",
    "payload = {\"inputs\": prompt}"
   ]
  },
  {
   "cell_type": "code",
   "execution_count": null,
   "metadata": {},
   "outputs": [],
   "source": [
    "%%time \n",
    "import requests\n",
    "\n",
    "resp = requests.post(API_URL, json=payload, headers=headers)\n",
    "response = resp.json()"
   ]
  },
  {
   "cell_type": "code",
   "execution_count": null,
   "metadata": {},
   "outputs": [],
   "source": [
    "response"
   ]
  },
  {
   "cell_type": "markdown",
   "metadata": {},
   "source": [
    "Although fine tuning the model for the following task is not rational approach and neither was using llama 2 which was an overkill i could have used BERT or gpt-2 but i had hardware constraints so i went with llama 2."
   ]
  }
 ],
 "metadata": {
  "kernelspec": {
   "display_name": "venv",
   "language": "python",
   "name": "python3"
  },
  "language_info": {
   "codemirror_mode": {
    "name": "ipython",
    "version": 3
   },
   "file_extension": ".py",
   "mimetype": "text/x-python",
   "name": "python",
   "nbconvert_exporter": "python",
   "pygments_lexer": "ipython3",
   "version": "3.10.9"
  },
  "orig_nbformat": 4
 },
 "nbformat": 4,
 "nbformat_minor": 2
}
